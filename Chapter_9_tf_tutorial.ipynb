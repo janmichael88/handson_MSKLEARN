{
 "cells": [
  {
   "cell_type": "code",
   "execution_count": 1,
   "metadata": {},
   "outputs": [],
   "source": [
    "# Common imports\n",
    "import numpy as np\n",
    "import os\n",
    "\n",
    "# to make this notebook's output stable across runs\n",
    "def reset_graph(seed=42):\n",
    "    tf.reset_default_graph()\n",
    "    tf.set_random_seed(seed)\n",
    "    np.random.seed(seed)\n",
    "\n",
    "# To plot pretty figures\n",
    "%matplotlib inline\n",
    "import matplotlib\n",
    "import matplotlib.pyplot as plt\n",
    "plt.rcParams['axes.labelsize'] = 14\n",
    "plt.rcParams['xtick.labelsize'] = 12\n",
    "plt.rcParams['ytick.labelsize'] = 12"
   ]
  },
  {
   "cell_type": "code",
   "execution_count": 2,
   "metadata": {},
   "outputs": [],
   "source": [
    "import tensorflow as tf"
   ]
  },
  {
   "cell_type": "code",
   "execution_count": 3,
   "metadata": {},
   "outputs": [
    {
     "data": {
      "text/plain": [
       "<tf.Tensor 'add_1:0' shape=() dtype=int32>"
      ]
     },
     "execution_count": 3,
     "metadata": {},
     "output_type": "execute_result"
    }
   ],
   "source": [
    "reset_graph()\n",
    "\n",
    "x = tf.Variable(6,name=\"x\")\n",
    "y = tf.Variable(4,name=\"y\")\n",
    "f = x*x*y + y + 2\n",
    "f"
   ]
  },
  {
   "cell_type": "code",
   "execution_count": 70,
   "metadata": {},
   "outputs": [
    {
     "name": "stdout",
     "output_type": "stream",
     "text": [
      "Tensor(\"add_1:0\", shape=(), dtype=int32)\n"
     ]
    }
   ],
   "source": [
    "print(f)"
   ]
  },
  {
   "cell_type": "code",
   "execution_count": 71,
   "metadata": {},
   "outputs": [
    {
     "ename": "AttributeError",
     "evalue": "'Tensor' object has no attribute 'initializer'",
     "output_type": "error",
     "traceback": [
      "\u001b[0;31m---------------------------------------------------------------------------\u001b[0m",
      "\u001b[0;31mAttributeError\u001b[0m                            Traceback (most recent call last)",
      "\u001b[0;32m<ipython-input-71-436a16b7b9a0>\u001b[0m in \u001b[0;36m<module>\u001b[0;34m\u001b[0m\n\u001b[1;32m      1\u001b[0m \u001b[0msess\u001b[0m \u001b[0;34m=\u001b[0m \u001b[0mtf\u001b[0m\u001b[0;34m.\u001b[0m\u001b[0mSession\u001b[0m\u001b[0;34m(\u001b[0m\u001b[0;34m)\u001b[0m\u001b[0;34m\u001b[0m\u001b[0;34m\u001b[0m\u001b[0m\n\u001b[0;32m----> 2\u001b[0;31m \u001b[0msess\u001b[0m\u001b[0;34m.\u001b[0m\u001b[0mrun\u001b[0m\u001b[0;34m(\u001b[0m\u001b[0mx\u001b[0m\u001b[0;34m.\u001b[0m\u001b[0minitializer\u001b[0m\u001b[0;34m)\u001b[0m\u001b[0;34m\u001b[0m\u001b[0;34m\u001b[0m\u001b[0m\n\u001b[0m\u001b[1;32m      3\u001b[0m \u001b[0msess\u001b[0m\u001b[0;34m.\u001b[0m\u001b[0mrun\u001b[0m\u001b[0;34m(\u001b[0m\u001b[0my\u001b[0m\u001b[0;34m.\u001b[0m\u001b[0minitializer\u001b[0m\u001b[0;34m)\u001b[0m\u001b[0;34m\u001b[0m\u001b[0;34m\u001b[0m\u001b[0m\n\u001b[1;32m      4\u001b[0m \u001b[0mresult\u001b[0m \u001b[0;34m=\u001b[0m \u001b[0msess\u001b[0m\u001b[0;34m.\u001b[0m\u001b[0mrun\u001b[0m\u001b[0;34m(\u001b[0m\u001b[0mf\u001b[0m\u001b[0;34m)\u001b[0m\u001b[0;34m\u001b[0m\u001b[0;34m\u001b[0m\u001b[0m\n\u001b[1;32m      5\u001b[0m \u001b[0mprint\u001b[0m\u001b[0;34m(\u001b[0m\u001b[0mresult\u001b[0m\u001b[0;34m)\u001b[0m\u001b[0;34m\u001b[0m\u001b[0;34m\u001b[0m\u001b[0m\n",
      "\u001b[0;31mAttributeError\u001b[0m: 'Tensor' object has no attribute 'initializer'"
     ]
    }
   ],
   "source": [
    "sess = tf.Session()\n",
    "sess.run(x.initializer)\n",
    "sess.run(y.initializer)\n",
    "result = sess.run(f)\n",
    "print(result)"
   ]
  },
  {
   "cell_type": "code",
   "execution_count": 72,
   "metadata": {},
   "outputs": [],
   "source": [
    "#close session\n",
    "sess.close()"
   ]
  },
  {
   "cell_type": "code",
   "execution_count": 7,
   "metadata": {},
   "outputs": [],
   "source": [
    "with tf.Session() as sess:\n",
    "    x.initializer.run()\n",
    "    y.initializer.run()\n",
    "    result = f.eval()"
   ]
  },
  {
   "cell_type": "code",
   "execution_count": 8,
   "metadata": {},
   "outputs": [
    {
     "data": {
      "text/plain": [
       "150"
      ]
     },
     "execution_count": 8,
     "metadata": {},
     "output_type": "execute_result"
    }
   ],
   "source": [
    "result"
   ]
  },
  {
   "cell_type": "code",
   "execution_count": 9,
   "metadata": {},
   "outputs": [],
   "source": [
    "#global inits\n",
    "init = tf.global_variables_initializer()"
   ]
  },
  {
   "cell_type": "code",
   "execution_count": 10,
   "metadata": {},
   "outputs": [
    {
     "name": "stdout",
     "output_type": "stream",
     "text": [
      "150\n"
     ]
    }
   ],
   "source": [
    "sess = tf.InteractiveSession()\n",
    "init.run()\n",
    "result = f.eval()\n",
    "print(result)"
   ]
  },
  {
   "cell_type": "code",
   "execution_count": 11,
   "metadata": {},
   "outputs": [],
   "source": [
    "sess.close()"
   ]
  },
  {
   "cell_type": "code",
   "execution_count": 12,
   "metadata": {},
   "outputs": [
    {
     "data": {
      "text/plain": [
       "150"
      ]
     },
     "execution_count": 12,
     "metadata": {},
     "output_type": "execute_result"
    }
   ],
   "source": [
    "result"
   ]
  },
  {
   "cell_type": "markdown",
   "metadata": {},
   "source": [
    "# Managing Graphs"
   ]
  },
  {
   "cell_type": "code",
   "execution_count": 13,
   "metadata": {},
   "outputs": [
    {
     "data": {
      "text/plain": [
       "<function __main__.reset_graph(seed=42)>"
      ]
     },
     "execution_count": 13,
     "metadata": {},
     "output_type": "execute_result"
    }
   ],
   "source": [
    "reset_graph"
   ]
  },
  {
   "cell_type": "code",
   "execution_count": 14,
   "metadata": {},
   "outputs": [
    {
     "data": {
      "text/plain": [
       "True"
      ]
     },
     "execution_count": 14,
     "metadata": {},
     "output_type": "execute_result"
    }
   ],
   "source": [
    "x1 = tf.Variable(1)\n",
    "x1.graph is tf.get_default_graph()"
   ]
  },
  {
   "cell_type": "code",
   "execution_count": 15,
   "metadata": {},
   "outputs": [
    {
     "data": {
      "text/plain": [
       "True"
      ]
     },
     "execution_count": 15,
     "metadata": {},
     "output_type": "execute_result"
    }
   ],
   "source": [
    "graph = tf.Graph()\n",
    "with graph.as_default():\n",
    "    x2 = tf.Variable(2)\n",
    "x2.graph is graph"
   ]
  },
  {
   "cell_type": "code",
   "execution_count": 16,
   "metadata": {},
   "outputs": [
    {
     "name": "stdout",
     "output_type": "stream",
     "text": [
      "3\n",
      "10\n",
      "15\n",
      "75\n"
     ]
    }
   ],
   "source": [
    "#add variables\n",
    "\n",
    "w = tf.constant(3)\n",
    "x = w + 2\n",
    "y = x + 5\n",
    "h = x*15\n",
    "z = x*3\n",
    "\n",
    "with tf.Session() as sess:\n",
    "    print(w.eval())\n",
    "    print(y.eval())\n",
    "    print(z.eval())\n",
    "    print(h.eval())\n"
   ]
  },
  {
   "cell_type": "code",
   "execution_count": 17,
   "metadata": {},
   "outputs": [
    {
     "name": "stdout",
     "output_type": "stream",
     "text": [
      "3\n"
     ]
    }
   ],
   "source": [
    "with tf.Session() as sess:\n",
    "    print(w.eval())"
   ]
  },
  {
   "cell_type": "markdown",
   "metadata": {},
   "source": [
    "# Linear Regression\n",
    "### Using the Normal Equation"
   ]
  },
  {
   "cell_type": "code",
   "execution_count": 18,
   "metadata": {},
   "outputs": [],
   "source": [
    "import numpy as np\n",
    "from sklearn.datasets import fetch_california_housing\n",
    "\n",
    "reset_graph()\n",
    "\n",
    "housing = fetch_california_housing()\n",
    "m,n = housing.data.shape\n",
    "housing_data_plus_bias = np.c_[np.ones((m,1)),housing.data]"
   ]
  },
  {
   "cell_type": "code",
   "execution_count": 19,
   "metadata": {},
   "outputs": [
    {
     "data": {
      "text/plain": [
       "array([[   8.3252    ,   41.        ,    6.98412698, ...,    2.55555556,\n",
       "          37.88      , -122.23      ],\n",
       "       [   8.3014    ,   21.        ,    6.23813708, ...,    2.10984183,\n",
       "          37.86      , -122.22      ],\n",
       "       [   7.2574    ,   52.        ,    8.28813559, ...,    2.80225989,\n",
       "          37.85      , -122.24      ],\n",
       "       ...,\n",
       "       [   1.7       ,   17.        ,    5.20554273, ...,    2.3256351 ,\n",
       "          39.43      , -121.22      ],\n",
       "       [   1.8672    ,   18.        ,    5.32951289, ...,    2.12320917,\n",
       "          39.43      , -121.32      ],\n",
       "       [   2.3886    ,   16.        ,    5.25471698, ...,    2.61698113,\n",
       "          39.37      , -121.24      ]])"
      ]
     },
     "execution_count": 19,
     "metadata": {},
     "output_type": "execute_result"
    }
   ],
   "source": [
    "housing.data"
   ]
  },
  {
   "cell_type": "code",
   "execution_count": 20,
   "metadata": {},
   "outputs": [
    {
     "data": {
      "text/plain": [
       "array([[   1.        ,    8.3252    ,   41.        , ...,    2.55555556,\n",
       "          37.88      , -122.23      ],\n",
       "       [   1.        ,    8.3014    ,   21.        , ...,    2.10984183,\n",
       "          37.86      , -122.22      ],\n",
       "       [   1.        ,    7.2574    ,   52.        , ...,    2.80225989,\n",
       "          37.85      , -122.24      ],\n",
       "       ...,\n",
       "       [   1.        ,    1.7       ,   17.        , ...,    2.3256351 ,\n",
       "          39.43      , -121.22      ],\n",
       "       [   1.        ,    1.8672    ,   18.        , ...,    2.12320917,\n",
       "          39.43      , -121.32      ],\n",
       "       [   1.        ,    2.3886    ,   16.        , ...,    2.61698113,\n",
       "          39.37      , -121.24      ]])"
      ]
     },
     "execution_count": 20,
     "metadata": {},
     "output_type": "execute_result"
    }
   ],
   "source": [
    "housing_data_plus_bias"
   ]
  },
  {
   "cell_type": "code",
   "execution_count": 21,
   "metadata": {},
   "outputs": [],
   "source": [
    "#init variables for x and y\n",
    "X = tf.constant(housing_data_plus_bias,\n",
    "                dtype=tf.float32,name=\"X\")\n",
    "y = tf.constant(housing.target.reshape(-1,1),\n",
    "                dtype=tf.float32,name='y')\n",
    "\n",
    "#traspose X\n",
    "XT = tf.transpose(X)\n",
    "theta = tf.matmul(tf.matmul(tf.matrix_inverse(tf.matmul(XT,X)),XT),y)"
   ]
  },
  {
   "cell_type": "code",
   "execution_count": 22,
   "metadata": {},
   "outputs": [
    {
     "name": "stdout",
     "output_type": "stream",
     "text": [
      "[[   1.           8.3252      41.        ...    2.5555556   37.88\n",
      "  -122.23     ]\n",
      " [   1.           8.3014      21.        ...    2.1098418   37.86\n",
      "  -122.22     ]\n",
      " [   1.           7.2574      52.        ...    2.80226     37.85\n",
      "  -122.24     ]\n",
      " ...\n",
      " [   1.           1.7         17.        ...    2.3256352   39.43\n",
      "  -121.22     ]\n",
      " [   1.           1.8672      18.        ...    2.1232092   39.43\n",
      "  -121.32     ]\n",
      " [   1.           2.3886      16.        ...    2.616981    39.37\n",
      "  -121.24     ]]\n"
     ]
    }
   ],
   "source": [
    "with tf.Session() as sess:\n",
    "    print(X.eval())"
   ]
  },
  {
   "cell_type": "code",
   "execution_count": 23,
   "metadata": {},
   "outputs": [],
   "source": [
    "#carry out computation graph\n",
    "with tf.Session() as sess:\n",
    "    theta_value = theta.eval()"
   ]
  },
  {
   "cell_type": "code",
   "execution_count": 24,
   "metadata": {},
   "outputs": [
    {
     "data": {
      "text/plain": [
       "array([[-3.6955223e+01],\n",
       "       [ 4.3629766e-01],\n",
       "       [ 9.4330031e-03],\n",
       "       [-1.0657431e-01],\n",
       "       [ 6.4040172e-01],\n",
       "       [-3.9891174e-06],\n",
       "       [-3.7860912e-03],\n",
       "       [-4.2141816e-01],\n",
       "       [-4.3461639e-01]], dtype=float32)"
      ]
     },
     "execution_count": 24,
     "metadata": {},
     "output_type": "execute_result"
    }
   ],
   "source": [
    "theta_value\n",
    "#convert to numpy array"
   ]
  },
  {
   "cell_type": "code",
   "execution_count": 25,
   "metadata": {},
   "outputs": [
    {
     "name": "stdout",
     "output_type": "stream",
     "text": [
      "[[-3.69419202e+01]\n",
      " [ 4.36693293e-01]\n",
      " [ 9.43577803e-03]\n",
      " [-1.07322041e-01]\n",
      " [ 6.45065694e-01]\n",
      " [-3.97638942e-06]\n",
      " [-3.78654265e-03]\n",
      " [-4.21314378e-01]\n",
      " [-4.34513755e-01]]\n"
     ]
    }
   ],
   "source": [
    "#compare with numpy array\n",
    "X = housing_data_plus_bias\n",
    "y = housing.target.reshape(-1,1)\n",
    "theta_numpy = np.linalg.inv(X.T.dot(X)).dot(X.T).dot(y)\n",
    "\n",
    "print(theta_numpy)"
   ]
  },
  {
   "cell_type": "code",
   "execution_count": 26,
   "metadata": {},
   "outputs": [
    {
     "data": {
      "text/plain": [
       "array([[-0.0133 ],\n",
       "       [-0.0004 ],\n",
       "       [-0.     ],\n",
       "       [ 0.00075],\n",
       "       [-0.00466],\n",
       "       [-0.     ],\n",
       "       [ 0.     ],\n",
       "       [-0.0001 ],\n",
       "       [-0.0001 ]])"
      ]
     },
     "execution_count": 26,
     "metadata": {},
     "output_type": "execute_result"
    }
   ],
   "source": [
    "#compare differences\n",
    "np.round((theta_value - theta_numpy),5)"
   ]
  },
  {
   "cell_type": "code",
   "execution_count": 27,
   "metadata": {},
   "outputs": [
    {
     "name": "stdout",
     "output_type": "stream",
     "text": [
      "[[-3.69419202e+01]\n",
      " [ 4.36693293e-01]\n",
      " [ 9.43577803e-03]\n",
      " [-1.07322041e-01]\n",
      " [ 6.45065694e-01]\n",
      " [-3.97638942e-06]\n",
      " [-3.78654265e-03]\n",
      " [-4.21314378e-01]\n",
      " [-4.34513755e-01]]\n"
     ]
    }
   ],
   "source": [
    "#compare with sklearn linear regression model\n",
    "from sklearn.linear_model import LinearRegression\n",
    "lin_reg = LinearRegression()\n",
    "lin_reg.fit(housing.data,housing.target.reshape(-1,1))\n",
    "print(np.r_[lin_reg.intercept_.reshape(-1,1),lin_reg.coef_.T])"
   ]
  },
  {
   "cell_type": "markdown",
   "metadata": {},
   "source": [
    "# Using Batch Gradient Descent\n",
    "Grade Descent require the feaure vectors list. We could do this using tf, but lets compare with sklearns implementation"
   ]
  },
  {
   "cell_type": "code",
   "execution_count": 73,
   "metadata": {},
   "outputs": [],
   "source": [
    "from sklearn.preprocessing import StandardScaler\n",
    "scaler = StandardScaler()\n",
    "scaled_housing_data = scaler.fit_transform(housing.data)\n",
    "scaled_housing_data_plus_bias = np.c_[np.ones((m, 1)), scaled_housing_data]\n"
   ]
  },
  {
   "cell_type": "code",
   "execution_count": 29,
   "metadata": {},
   "outputs": [
    {
     "data": {
      "text/plain": [
       "array([[ 1.        ,  2.34476576,  0.98214266, ..., -0.04959654,\n",
       "         1.05254828, -1.32783522],\n",
       "       [ 1.        ,  2.33223796, -0.60701891, ..., -0.09251223,\n",
       "         1.04318455, -1.32284391],\n",
       "       [ 1.        ,  1.7826994 ,  1.85618152, ..., -0.02584253,\n",
       "         1.03850269, -1.33282653],\n",
       "       ...,\n",
       "       [ 1.        , -1.14259331, -0.92485123, ..., -0.0717345 ,\n",
       "         1.77823747, -0.8237132 ],\n",
       "       [ 1.        , -1.05458292, -0.84539315, ..., -0.09122515,\n",
       "         1.77823747, -0.87362627],\n",
       "       [ 1.        , -0.78012947, -1.00430931, ..., -0.04368215,\n",
       "         1.75014627, -0.83369581]])"
      ]
     },
     "execution_count": 29,
     "metadata": {},
     "output_type": "execute_result"
    }
   ],
   "source": [
    "#with bias added\n",
    "scaled_housing_data_plus_bias"
   ]
  },
  {
   "cell_type": "code",
   "execution_count": 30,
   "metadata": {},
   "outputs": [
    {
     "name": "stdout",
     "output_type": "stream",
     "text": [
      "[ 1.00000000e+00  6.60969987e-17  5.50808322e-18  6.60969987e-17\n",
      " -1.06030602e-16 -1.10161664e-17  3.44255201e-18 -1.07958431e-15\n",
      " -8.52651283e-15]\n",
      "[ 0.38915536  0.36424355  0.5116157  ... -0.06612179 -0.06360587\n",
      "  0.01359031]\n",
      "0.11111111111111005\n",
      "(20640, 9)\n"
     ]
    }
   ],
   "source": [
    "print(scaled_housing_data_plus_bias.mean(axis=0))\n",
    "print(scaled_housing_data_plus_bias.mean(axis=1))\n",
    "print(scaled_housing_data_plus_bias.mean())\n",
    "print(scaled_housing_data_plus_bias.shape)"
   ]
  },
  {
   "cell_type": "markdown",
   "metadata": {},
   "source": [
    "### Manually computing the gradients"
   ]
  },
  {
   "cell_type": "code",
   "execution_count": 31,
   "metadata": {},
   "outputs": [
    {
     "name": "stdout",
     "output_type": "stream",
     "text": [
      "Epoch 0 MSE =  9.16154\n",
      "Epoch 100 MSE =  6.231721\n",
      "Epoch 200 MSE =  4.316965\n",
      "Epoch 300 MSE =  3.0578644\n",
      "Epoch 400 MSE =  2.226153\n",
      "Epoch 500 MSE =  1.6748925\n",
      "Epoch 600 MSE =  1.308548\n",
      "Epoch 700 MSE =  1.0645523\n",
      "Epoch 800 MSE =  0.9017105\n",
      "Epoch 900 MSE =  0.79279906\n",
      "Epoch 1000 MSE =  0.7197754\n",
      "Epoch 1100 MSE =  0.6706612\n",
      "Epoch 1200 MSE =  0.63748986\n"
     ]
    },
    {
     "data": {
      "text/plain": [
       "array([[ 1.9029182 ],\n",
       "       [ 0.81852823],\n",
       "       [ 0.20331104],\n",
       "       [-0.31572217],\n",
       "       [ 0.339451  ],\n",
       "       [ 0.08506171],\n",
       "       [-0.03234863],\n",
       "       [-0.25900894],\n",
       "       [-0.23515938]], dtype=float32)"
      ]
     },
     "execution_count": 31,
     "metadata": {},
     "output_type": "execute_result"
    }
   ],
   "source": [
    "reset_graph()\n",
    "\n",
    "n_epochs = 1300\n",
    "learning_rate = 0.001\n",
    "\n",
    "X = tf.constant(scaled_housing_data_plus_bias,dtype=tf.float32,\n",
    "               name=\"X\")\n",
    "y = tf.constant(housing.target.reshape(-1,1),dtype=tf.float32,\n",
    "               name='y')\n",
    "theta = tf.Variable(tf.random_uniform([n+1,1],-1.0,1.0,seed=42),name='theta')\n",
    "y_pred = tf.matmul(X,theta,name='predictions')\n",
    "error = y_pred - y\n",
    "mse = tf.reduce_mean(tf.square(error),name='mse')\n",
    "gradients = 2/m*tf.matmul(tf.transpose(X),error)\n",
    "training_op = tf.assign(theta,theta - learning_rate*gradients)\n",
    "\n",
    "init = tf.global_variables_initializer()\n",
    "\n",
    "with tf.Session() as sess:\n",
    "    sess.run(init)\n",
    "    \n",
    "    for epoch in range(n_epochs):\n",
    "        if epoch % 100 == 0:\n",
    "            print('Epoch',epoch,\"MSE = \",mse.eval())\n",
    "        sess.run(training_op)\n",
    "    #assign\n",
    "    best_theta = theta.eval()\n",
    "    \n",
    "best_theta"
   ]
  },
  {
   "cell_type": "markdown",
   "metadata": {},
   "source": [
    "### Using autodiff\n",
    "same as above except for the gradients = ...line:"
   ]
  },
  {
   "cell_type": "code",
   "execution_count": 32,
   "metadata": {},
   "outputs": [],
   "source": [
    "reset_graph()\n",
    "\n",
    "n_epochs = 1500\n",
    "learning_rate = 0.03\n",
    "\n",
    "#init variables\n",
    "X = tf.constant(scaled_housing_data_plus_bias,dtype=tf.float32,name=\"X\")\n",
    "y = tf.constant(housing.target.reshape(-1,1),dtype=tf.float32,name=\"y\")\n",
    "theta = tf.Variable(tf.random_uniform([n+1,1],-1.0,1.0,seed=42),name='theta')\n",
    "y_pred = tf.matmul(X,theta,name='predictions')\n",
    "error = y_pred - y\n",
    "mse = tf.reduce_mean(tf.square(error),name='mse')\n"
   ]
  },
  {
   "cell_type": "code",
   "execution_count": 33,
   "metadata": {},
   "outputs": [],
   "source": [
    "gradients = tf.gradients(mse,[theta])[0]"
   ]
  },
  {
   "cell_type": "code",
   "execution_count": 34,
   "metadata": {},
   "outputs": [
    {
     "name": "stdout",
     "output_type": "stream",
     "text": [
      "Epoch is  0 MSE =  9.16154\n",
      "Epoch is  50 MSE =  0.5856219\n",
      "Epoch is  100 MSE =  0.5555315\n",
      "Epoch is  150 MSE =  0.5460267\n",
      "Epoch is  200 MSE =  0.5396025\n",
      "Epoch is  250 MSE =  0.5351923\n",
      "Epoch is  300 MSE =  0.5321293\n",
      "Epoch is  350 MSE =  0.5299779\n",
      "Epoch is  400 MSE =  0.5284508\n",
      "Epoch is  450 MSE =  0.52735627\n",
      "Epoch is  500 MSE =  0.5265648\n",
      "Epoch is  550 MSE =  0.52598774\n",
      "Epoch is  600 MSE =  0.5255642\n",
      "Epoch is  650 MSE =  0.5252516\n",
      "Epoch is  700 MSE =  0.5250197\n",
      "Epoch is  750 MSE =  0.5248467\n",
      "Epoch is  800 MSE =  0.5247174\n",
      "Epoch is  850 MSE =  0.52462035\n",
      "Epoch is  900 MSE =  0.5245474\n",
      "Epoch is  950 MSE =  0.5244923\n",
      "Epoch is  1000 MSE =  0.5244509\n",
      "Epoch is  1050 MSE =  0.52441937\n",
      "Epoch is  1100 MSE =  0.5243956\n",
      "Epoch is  1150 MSE =  0.52437764\n",
      "Epoch is  1200 MSE =  0.524364\n",
      "Epoch is  1250 MSE =  0.5243538\n",
      "Epoch is  1300 MSE =  0.52434576\n",
      "Epoch is  1350 MSE =  0.52433985\n",
      "Epoch is  1400 MSE =  0.52433527\n",
      "Epoch is  1450 MSE =  0.5243318\n",
      "Best theta is  [[ 2.0685565 ]\n",
      " [ 0.8328103 ]\n",
      " [ 0.11938971]\n",
      " [-0.27148136]\n",
      " [ 0.31058738]\n",
      " [-0.0043123 ]\n",
      " [-0.03944827]\n",
      " [-0.892238  ]\n",
      " [-0.8632611 ]]\n"
     ]
    }
   ],
   "source": [
    "training_op = tf.assign(theta,theta - learning_rate*gradients)\n",
    "\n",
    "init = tf.global_variables_initializer()\n",
    "\n",
    "#initilizae computaiton session\n",
    "with tf.Session() as sess:\n",
    "    sess.run(init)\n",
    "    \n",
    "    for epoch in range(n_epochs):\n",
    "        if epoch % 50 == 0:\n",
    "            print('Epoch is ', epoch, \"MSE = \",mse.eval())\n",
    "        sess.run(training_op)\n",
    "    \n",
    "    #best theta at end of gradient descent\n",
    "    best_theta = theta.eval()\n",
    "    \n",
    "print(\"Best theta is \", best_theta)\n"
   ]
  },
  {
   "cell_type": "markdown",
   "metadata": {},
   "source": [
    "### How would find the partial derivatives ofthe following funciton with regard to a and b?\n",
    "* you would need to calculate the derivatives at each step"
   ]
  },
  {
   "cell_type": "code",
   "execution_count": 35,
   "metadata": {},
   "outputs": [],
   "source": [
    "def my_func(a,b):\n",
    "    z = 0\n",
    "    for i in range(100):\n",
    "        z = a*np.cos(z+i) + z*np.sin(b-i)\n",
    "    return(z)"
   ]
  },
  {
   "cell_type": "code",
   "execution_count": 36,
   "metadata": {},
   "outputs": [
    {
     "data": {
      "text/plain": [
       "-0.21253923284754916"
      ]
     },
     "execution_count": 36,
     "metadata": {},
     "output_type": "execute_result"
    }
   ],
   "source": [
    "my_func(0.2,0.3)"
   ]
  },
  {
   "cell_type": "code",
   "execution_count": 37,
   "metadata": {},
   "outputs": [],
   "source": [
    "reset_graph()\n",
    "\n",
    "a = tf.Variable(0.2,name=\"a\")\n",
    "b = tf.Variable(0.3,name=\"b\")\n",
    "z = tf.Variable(0.0,name=\"z0\")\n",
    "\n",
    "for i in range(100):\n",
    "    z = a*tf.cos(z+i) + z*tf.sin(b-i)\n",
    "    \n",
    "#compute the gradients of z at a,b\n",
    "grads = tf.gradients(z,[a,b])\n",
    "init = tf.global_variables_initializer()"
   ]
  },
  {
   "cell_type": "code",
   "execution_count": 38,
   "metadata": {},
   "outputs": [
    {
     "name": "stdout",
     "output_type": "stream",
     "text": [
      "0.2\n",
      "0.3\n",
      "[-1.1388494, 0.19671397]\n"
     ]
    }
   ],
   "source": [
    "with tf.Session() as sess:\n",
    "    init.run()\n",
    "    print(a.eval())\n",
    "    print(b.eval())\n",
    "    print(sess.run(grads))"
   ]
  },
  {
   "cell_type": "markdown",
   "metadata": {},
   "source": [
    "This took a few seconds to run. "
   ]
  },
  {
   "cell_type": "markdown",
   "metadata": {},
   "source": [
    "### Using a $GradientDescentOptimizer$"
   ]
  },
  {
   "cell_type": "code",
   "execution_count": 39,
   "metadata": {},
   "outputs": [],
   "source": [
    "reset_graph()\n",
    "\n",
    "n_epochs = 1000\n",
    "learning_rate = 0.01\n",
    "\n",
    "X = tf.constant(scaled_housing_data_plus_bias,dtype=tf.float32,name='X')\n",
    "y = tf.constant(housing.target.reshape(-1,1),dtype=tf.float32,name=\"y\")\n",
    "theta = tf.Variable(tf.random_uniform([n+1,1],-1.0,1.0,seed=42),name='theta')\n",
    "y_pred = tf.matmul(X,theta,name='predictions')\n",
    "error = y_pred - y\n",
    "mse = tf.reduce_mean(tf.square(error),name='mse')"
   ]
  },
  {
   "cell_type": "code",
   "execution_count": 40,
   "metadata": {},
   "outputs": [],
   "source": [
    "#set the optimizer\n",
    "optimizer = tf.train.GradientDescentOptimizer(learning_rate= learning_rate)\n",
    "training_op = optimizer.minimize(mse)"
   ]
  },
  {
   "cell_type": "code",
   "execution_count": 41,
   "metadata": {},
   "outputs": [
    {
     "name": "stdout",
     "output_type": "stream",
     "text": [
      "Epoch  0 MSE =  9.16154\n",
      "Epoch  100 MSE =  0.71450037\n",
      "Epoch  200 MSE =  0.56670487\n",
      "Epoch  300 MSE =  0.55557173\n",
      "Epoch  400 MSE =  0.5488112\n",
      "Epoch  500 MSE =  0.54363626\n",
      "Epoch  600 MSE =  0.53962904\n",
      "Epoch  700 MSE =  0.5365092\n",
      "Epoch  800 MSE =  0.5340677\n",
      "Epoch  900 MSE =  0.5321473\n",
      "Best theta is  [[ 2.0685525 ]\n",
      " [ 0.8874027 ]\n",
      " [ 0.14401656]\n",
      " [-0.34770876]\n",
      " [ 0.36178365]\n",
      " [ 0.00393811]\n",
      " [-0.04269557]\n",
      " [-0.66145283]\n",
      " [-0.63752776]]\n"
     ]
    }
   ],
   "source": [
    "init = tf.global_variables_initializer()\n",
    "\n",
    "with tf.Session() as sess:\n",
    "    sess.run(init)\n",
    "    \n",
    "    for epoch in range(n_epochs):\n",
    "        if epoch % 100 == 0:\n",
    "            print(\"Epoch \",epoch, \"MSE = \",mse.eval())\n",
    "        sess.run(training_op)\n",
    "    best_theta = theta.eval()\n",
    "    \n",
    "print(\"Best theta is \",best_theta)"
   ]
  },
  {
   "cell_type": "markdown",
   "metadata": {},
   "source": [
    "### Using momentum"
   ]
  },
  {
   "cell_type": "code",
   "execution_count": 42,
   "metadata": {},
   "outputs": [],
   "source": [
    "reset_graph()\n",
    "\n",
    "n_epochs = 1000\n",
    "learning_rate = 0.01\n",
    "\n",
    "X = tf.constant(scaled_housing_data_plus_bias,dtype=tf.float32,name=\"X\")\n",
    "y = tf.constant(housing.target.reshape(-1,1),dtype=tf.float32,name='y')\n",
    "theta = tf.Variable(tf.random_uniform([n+1,1],-1.0,1.0,seed=42),name='theta')\n",
    "y_pred = tf.matmul(X,theta,name='predictions')\n",
    "error = y_pred - y\n",
    "mse = tf.reduce_mean(tf.square(error),name='mse')\n",
    "optimizer = tf.train.MomentumOptimizer(learning_rate=learning_rate,momentum=0.9)"
   ]
  },
  {
   "cell_type": "code",
   "execution_count": 43,
   "metadata": {},
   "outputs": [],
   "source": [
    "#init training op and session and variables\n",
    "training_op = optimizer.minimize(mse)\n",
    "init = tf.global_variables_initializer()"
   ]
  },
  {
   "cell_type": "code",
   "execution_count": 44,
   "metadata": {},
   "outputs": [
    {
     "name": "stdout",
     "output_type": "stream",
     "text": [
      "Best theta\n",
      "[[ 2.068558  ]\n",
      " [ 0.8296283 ]\n",
      " [ 0.11875331]\n",
      " [-0.26554415]\n",
      " [ 0.3057106 ]\n",
      " [-0.00450251]\n",
      " [-0.0393266 ]\n",
      " [-0.8998653 ]\n",
      " [-0.8705215 ]]\n"
     ]
    }
   ],
   "source": [
    "with tf.Session() as sess:\n",
    "    sess.run(init)\n",
    "    \n",
    "    for epoch in range(n_epochs):\n",
    "        sess.run(training_op)\n",
    "        \n",
    "    best_theta = theta.eval()\n",
    "    \n",
    "print(\"Best theta\") \n",
    "print(best_theta)"
   ]
  },
  {
   "cell_type": "markdown",
   "metadata": {},
   "source": [
    "### Now try feeding training data into training algorithm"
   ]
  },
  {
   "cell_type": "markdown",
   "metadata": {},
   "source": [
    "### Placeholder nodes\n",
    "* you can't actuall see the placehold nodes when you evaluate them"
   ]
  },
  {
   "cell_type": "code",
   "execution_count": 74,
   "metadata": {},
   "outputs": [
    {
     "name": "stdout",
     "output_type": "stream",
     "text": [
      "[[6. 7. 8.]]\n"
     ]
    }
   ],
   "source": [
    "reset_graph()\n",
    "\n",
    "A = tf.placeholder(tf.float32,shape=(None,3))\n",
    "B = A + 5\n",
    "\n",
    "with tf.Session() as sess:\n",
    "    B_val_1 = B.eval(feed_dict={A: [[1,2,3]]})\n",
    "    B_val_2 = B.eval(feed_dict={A: [[4,5,6],[7,8,9]]})\n",
    "print(B_val_1)"
   ]
  },
  {
   "cell_type": "code",
   "execution_count": 75,
   "metadata": {},
   "outputs": [
    {
     "name": "stdout",
     "output_type": "stream",
     "text": [
      "[[ 9. 10. 11.]\n",
      " [12. 13. 14.]]\n"
     ]
    }
   ],
   "source": [
    "print(B_val_2)"
   ]
  },
  {
   "cell_type": "markdown",
   "metadata": {},
   "source": [
    "### Mini batch gradient descent"
   ]
  },
  {
   "cell_type": "code",
   "execution_count": 76,
   "metadata": {},
   "outputs": [],
   "source": [
    "n_epochs = 1000\n",
    "learning_rate = 0.01"
   ]
  },
  {
   "cell_type": "code",
   "execution_count": 77,
   "metadata": {},
   "outputs": [],
   "source": [
    "reset_graph()\n",
    "\n",
    "X = tf.placeholder(tf.float32,shape=(None,n+1),name='X')\n",
    "y = tf.placeholder(tf.float32,shape=(None,1),name=\"y\")"
   ]
  },
  {
   "cell_type": "code",
   "execution_count": 78,
   "metadata": {},
   "outputs": [],
   "source": [
    "theta = tf.Variable(tf.random_uniform([n+1,1],-1.0,1.0,seed=42),name='theta')\n",
    "y_pred = tf.matmul(X,theta,name='predictions')\n",
    "error = y_pred - y\n",
    "mse = tf.reduce_mean(tf.square(error),name='mse')\n",
    "optimizer = tf.train.GradientDescentOptimizer(learning_rate=learning_rate)\n",
    "training_op = optimizer.minimize(mse)\n",
    "\n",
    "init = tf.global_variables_initializer()"
   ]
  },
  {
   "cell_type": "code",
   "execution_count": 79,
   "metadata": {},
   "outputs": [],
   "source": [
    "n_epochs = 10"
   ]
  },
  {
   "cell_type": "code",
   "execution_count": 80,
   "metadata": {},
   "outputs": [],
   "source": [
    "batch_size = 100\n",
    "n_batches = int(np.ceil(m/batch_size))"
   ]
  },
  {
   "cell_type": "code",
   "execution_count": 81,
   "metadata": {},
   "outputs": [],
   "source": [
    "def fetch_batch(epoch,batch_index,batch_size):\n",
    "    np.random.seed(epoch*n_batches + batch_index)\n",
    "    indices = np.random.randint(m,size = batch_size)\n",
    "    X_batch = scaled_housing_data_plus_bias[indices]\n",
    "    y_batch = housing.target.reshape(-1,1)[indices]\n",
    "    return(X_batch,y_batch)\n",
    "\n",
    "with tf.Session() as sess:\n",
    "    sess.run(init)\n",
    "    \n",
    "    for epoch in range(n_epochs):\n",
    "        for batch_index in range(n_batches):\n",
    "            X_batch,y_batch = fetch_batch(epoch,batch_index,batch_size)\n",
    "            sess.run(training_op,feed_dict={X:X_batch,y:y_batch})\n",
    "        \n",
    "    \n",
    "    best_theta = theta.eval()"
   ]
  },
  {
   "cell_type": "code",
   "execution_count": 82,
   "metadata": {},
   "outputs": [
    {
     "data": {
      "text/plain": [
       "array([[ 2.0703337 ],\n",
       "       [ 0.8637145 ],\n",
       "       [ 0.12255149],\n",
       "       [-0.31211883],\n",
       "       [ 0.38510382],\n",
       "       [ 0.00434168],\n",
       "       [-0.01232954],\n",
       "       [-0.83376896],\n",
       "       [-0.8030471 ]], dtype=float32)"
      ]
     },
     "execution_count": 82,
     "metadata": {},
     "output_type": "execute_result"
    }
   ],
   "source": [
    "best_theta"
   ]
  },
  {
   "cell_type": "markdown",
   "metadata": {},
   "source": [
    "### Saving and restoring a model"
   ]
  },
  {
   "cell_type": "code",
   "execution_count": 85,
   "metadata": {},
   "outputs": [
    {
     "name": "stdout",
     "output_type": "stream",
     "text": [
      "Epoch 0 MSE =  9.16154\n",
      "Epoch 100 MSE =  0.71450037\n",
      "Epoch 200 MSE =  0.56670487\n",
      "Epoch 300 MSE =  0.55557173\n",
      "Epoch 400 MSE =  0.5488112\n",
      "Epoch 500 MSE =  0.54363626\n",
      "Epoch 600 MSE =  0.53962904\n",
      "Epoch 700 MSE =  0.5365092\n",
      "Epoch 800 MSE =  0.5340677\n",
      "Epoch 900 MSE =  0.5321473\n"
     ]
    }
   ],
   "source": [
    "reset_graph()\n",
    "\n",
    "n_epochs = 1000\n",
    "learning_rate = 0.01\n",
    "\n",
    "X = tf.constant(scaled_housing_data_plus_bias,dtype=tf.float32,name=\"X\")\n",
    "y = tf.constant(housing.target.reshape(-1,1),dtype=tf.float32,name=\"y\")\n",
    "theta = tf.Variable(tf.random_uniform([n+1,1],-1.0,1.0,seed=42),name='theta')\n",
    "y_pred = tf.matmul(X,theta,name='predictions')\n",
    "error = y_pred - y\n",
    "mse = tf.reduce_mean(tf.square(error),name='mse')\n",
    "optimizer = tf.train.GradientDescentOptimizer(learning_rate=learning_rate)\n",
    "training_op = optimizer.minimize(mse)\n",
    "\n",
    "init = tf.global_variables_initializer()\n",
    "saver = tf.train.Saver()\n",
    "\n",
    "with tf.Session() as sess:\n",
    "    sess.run(init)\n",
    "    \n",
    "    for epoch in range(n_epochs):\n",
    "        if epoch % 100 == 0:\n",
    "            print(\"Epoch\",epoch, \"MSE = \",mse.eval())\n",
    "            save_path = saver.save(sess,'my_model.ckpt')\n",
    "        sess.run(training_op)\n",
    "        \n",
    "    best_theta = theta.eval()\n",
    "    save_path = saver.save(sess,\"my_model_final.ckpt\")"
   ]
  },
  {
   "cell_type": "code",
   "execution_count": 86,
   "metadata": {},
   "outputs": [
    {
     "data": {
      "text/plain": [
       "array([[ 2.0685525 ],\n",
       "       [ 0.8874027 ],\n",
       "       [ 0.14401656],\n",
       "       [-0.34770876],\n",
       "       [ 0.36178365],\n",
       "       [ 0.00393811],\n",
       "       [-0.04269557],\n",
       "       [-0.66145283],\n",
       "       [-0.63752776]], dtype=float32)"
      ]
     },
     "execution_count": 86,
     "metadata": {},
     "output_type": "execute_result"
    }
   ],
   "source": [
    "best_theta"
   ]
  },
  {
   "cell_type": "code",
   "execution_count": 87,
   "metadata": {},
   "outputs": [
    {
     "name": "stdout",
     "output_type": "stream",
     "text": [
      "INFO:tensorflow:Restoring parameters from my_model_final.ckpt\n"
     ]
    }
   ],
   "source": [
    "with tf.Session() as sess:\n",
    "    saver.restore(sess,'my_model_final.ckpt')\n",
    "    best_theta_restores = theta.eval()"
   ]
  },
  {
   "cell_type": "code",
   "execution_count": 88,
   "metadata": {},
   "outputs": [
    {
     "data": {
      "text/plain": [
       "True"
      ]
     },
     "execution_count": 88,
     "metadata": {},
     "output_type": "execute_result"
    }
   ],
   "source": [
    "np.allclose(best_theta, best_theta_restores)"
   ]
  },
  {
   "cell_type": "markdown",
   "metadata": {},
   "source": [
    "If you want to have a svaer that loads and rstores theta with a different name such as weights:"
   ]
  },
  {
   "cell_type": "code",
   "execution_count": 89,
   "metadata": {},
   "outputs": [],
   "source": [
    "saver = tf.train.Saver({\"weights\":theta})"
   ]
  },
  {
   "cell_type": "code",
   "execution_count": 90,
   "metadata": {},
   "outputs": [
    {
     "data": {
      "text/plain": [
       "<tensorflow.python.training.saver.Saver at 0x1c46db5c88>"
      ]
     },
     "execution_count": 90,
     "metadata": {},
     "output_type": "execute_result"
    }
   ],
   "source": [
    "saver"
   ]
  },
  {
   "cell_type": "markdown",
   "metadata": {},
   "source": [
    "by default the saver alos saves the grpah structure itslef in a second extension file .meta. You can use the funtion tf.train.import_meta_graph() to restore the graph structure. This function loads the graph into the default graph and returns a save tha can then be sued to restore the graph state"
   ]
  },
  {
   "cell_type": "code",
   "execution_count": 93,
   "metadata": {},
   "outputs": [
    {
     "name": "stdout",
     "output_type": "stream",
     "text": [
      "INFO:tensorflow:Restoring parameters from my_model_final.ckpt\n"
     ]
    }
   ],
   "source": [
    "reset_graph()\n",
    "#make sure to start with an empty graph\n",
    "\n",
    "saver = tf.train.import_meta_graph(\"my_model_final.ckpt.meta\") # this load the graph structure\n",
    "\n",
    "theta = tf.get_default_graph().get_tensor_by_name(\"theta:0\")\n",
    "\n",
    "with tf.Session() as sess:\n",
    "    saver.restore(sess, \"my_model_final.ckpt\")\n",
    "    best_theta_restored = theta.eval()\n",
    "    "
   ]
  },
  {
   "cell_type": "code",
   "execution_count": 94,
   "metadata": {},
   "outputs": [
    {
     "data": {
      "text/plain": [
       "array([[ 2.0685525 ],\n",
       "       [ 0.8874027 ],\n",
       "       [ 0.14401656],\n",
       "       [-0.34770876],\n",
       "       [ 0.36178365],\n",
       "       [ 0.00393811],\n",
       "       [-0.04269557],\n",
       "       [-0.66145283],\n",
       "       [-0.63752776]], dtype=float32)"
      ]
     },
     "execution_count": 94,
     "metadata": {},
     "output_type": "execute_result"
    }
   ],
   "source": [
    "best_theta_restored"
   ]
  },
  {
   "cell_type": "code",
   "execution_count": 92,
   "metadata": {},
   "outputs": [
    {
     "data": {
      "text/plain": [
       "True"
      ]
     },
     "execution_count": 92,
     "metadata": {},
     "output_type": "execute_result"
    }
   ],
   "source": [
    "np.allclose(best_theta,best_theta_restored)"
   ]
  },
  {
   "cell_type": "markdown",
   "metadata": {},
   "source": [
    "To recap, we have imported a pretraing model without having to have the correspoding pythong code to build the gprahy. This is very handy when you keep tweaking and saving your model. You can load a previously saved model without having to search for the ersion of the code that built it."
   ]
  },
  {
   "cell_type": "markdown",
   "metadata": {},
   "source": [
    "# Using tensorboard"
   ]
  },
  {
   "cell_type": "code",
   "execution_count": 95,
   "metadata": {},
   "outputs": [],
   "source": [
    "import numpy as np\n",
    "from sklearn.datasets import fetch_california_housing\n",
    "housing = fetch_california_housing()\n",
    "m, n = housing.data.shape\n",
    "housing_data_plus_bias = np.c_[np.ones((m, 1)), housing.data]\n",
    "def fetch_batch(epoch,batch_index,batch_size):\n",
    "    np.random.seed(epoch*n_batches + batch_index)\n",
    "    indices = np.random.randint(m,size = batch_size)\n",
    "    X_batch = scaled_housing_data_plus_bias[indices]\n",
    "    y_batch = housing.target.reshape(-1,1)[indices]\n",
    "    return(X_batch,y_batch)"
   ]
  },
  {
   "cell_type": "code",
   "execution_count": 96,
   "metadata": {},
   "outputs": [],
   "source": [
    "reset_graph()\n",
    "\n",
    "from datetime import datetime\n",
    "\n",
    "now = datetime.utcnow().strftime(\"%Y%m%d%H%M%S\")\n",
    "root_logdir = \"tf_logs\"\n",
    "logdir = \"{}/run-{}/\".format(root_logdir, now)"
   ]
  },
  {
   "cell_type": "code",
   "execution_count": 97,
   "metadata": {},
   "outputs": [],
   "source": [
    "n_epochs = 1000\n",
    "learning_rate = 0.01\n",
    "batch_size = 100\n",
    "n_batches = int(np.ceil(m / batch_size))\n",
    "\n",
    "X = tf.placeholder(tf.float32, shape=(None, n + 1), name=\"X\")\n",
    "y = tf.placeholder(tf.float32, shape=(None, 1), name=\"y\")\n",
    "theta = tf.Variable(tf.random_uniform([n + 1, 1], -1.0, 1.0, seed=42), name=\"theta\")\n",
    "y_pred = tf.matmul(X, theta, name=\"predictions\")\n",
    "error = y_pred - y\n",
    "mse = tf.reduce_mean(tf.square(error), name=\"mse\")\n",
    "optimizer = tf.train.GradientDescentOptimizer(learning_rate=learning_rate)\n",
    "training_op = optimizer.minimize(mse)\n",
    "\n",
    "init = tf.global_variables_initializer()"
   ]
  },
  {
   "cell_type": "code",
   "execution_count": 98,
   "metadata": {},
   "outputs": [],
   "source": [
    "mse_summary = tf.summary.scalar('MSE', mse)\n",
    "file_writer = tf.summary.FileWriter(logdir, tf.get_default_graph())"
   ]
  },
  {
   "cell_type": "code",
   "execution_count": 99,
   "metadata": {},
   "outputs": [],
   "source": [
    "n_epochs = 10\n",
    "batch_size = 100\n",
    "n_batches = int(np.ceil(m / batch_size))"
   ]
  },
  {
   "cell_type": "code",
   "execution_count": 100,
   "metadata": {},
   "outputs": [],
   "source": [
    "with tf.Session() as sess:                                                        # not shown in the book\n",
    "    sess.run(init)                                                                # not shown\n",
    "\n",
    "    for epoch in range(n_epochs):                                                 # not shown\n",
    "        for batch_index in range(n_batches):\n",
    "            X_batch, y_batch = fetch_batch(epoch, batch_index, batch_size)\n",
    "            if batch_index % 10 == 0:\n",
    "                summary_str = mse_summary.eval(feed_dict={X: X_batch, y: y_batch})\n",
    "                step = epoch * n_batches + batch_index\n",
    "                file_writer.add_summary(summary_str, step)\n",
    "            sess.run(training_op, feed_dict={X: X_batch, y: y_batch})\n",
    "\n",
    "    best_theta = theta.eval()  "
   ]
  },
  {
   "cell_type": "code",
   "execution_count": 101,
   "metadata": {},
   "outputs": [],
   "source": [
    "file_writer.close()\n"
   ]
  },
  {
   "cell_type": "code",
   "execution_count": 102,
   "metadata": {},
   "outputs": [
    {
     "data": {
      "text/plain": [
       "array([[ 2.0703337 ],\n",
       "       [ 0.8637145 ],\n",
       "       [ 0.12255149],\n",
       "       [-0.31211883],\n",
       "       [ 0.38510382],\n",
       "       [ 0.00434168],\n",
       "       [-0.01232954],\n",
       "       [-0.83376896],\n",
       "       [-0.8030471 ]], dtype=float32)"
      ]
     },
     "execution_count": 102,
     "metadata": {},
     "output_type": "execute_result"
    }
   ],
   "source": [
    "best_theta"
   ]
  },
  {
   "cell_type": "markdown",
   "metadata": {},
   "source": [
    "# Name scopes"
   ]
  },
  {
   "cell_type": "code",
   "execution_count": 103,
   "metadata": {},
   "outputs": [],
   "source": [
    "reset_graph()\n",
    "\n",
    "now = datetime.utcnow().strftime(\"%Y%m%d%H%M%S\")\n",
    "root_logdir = \"tf_logs\"\n",
    "logdir = \"{}/run-{}/\".format(root_logdir, now)"
   ]
  },
  {
   "cell_type": "code",
   "execution_count": 104,
   "metadata": {},
   "outputs": [],
   "source": [
    "n_epochs = 2000\n",
    "learning_rate = 0.01\n",
    "\n",
    "X = tf.placeholder(tf.float32,shape=(None, n+1),name= \"X\")\n",
    "y = tf.placeholder(tf.float32,shape=(None, 1),name='y')\n",
    "theta = tf.Variable(tf.random_uniform([n+1,1],-1.0,1.0,seed= 42),name='theta')\n",
    "y_pred = tf.matmul(X,theta,name='predictions')"
   ]
  },
  {
   "cell_type": "code",
   "execution_count": 105,
   "metadata": {},
   "outputs": [],
   "source": [
    "#combing error and mse just calling it loss\n",
    "with tf.name_scope('loss') as scope:\n",
    "    error = y_pred - y\n",
    "    mse = tf.reduce_mean(tf.square(error),name=\"mse\")"
   ]
  },
  {
   "cell_type": "code",
   "execution_count": 106,
   "metadata": {},
   "outputs": [],
   "source": [
    "optimizer = tf.train.GradientDescentOptimizer(learning_rate=learning_rate)\n",
    "training_op = optimizer.minimize(mse)\n",
    "\n",
    "init = tf.global_variables_initializer()\n",
    "\n",
    "mse_summary = tf.summary.scalar(\"MSE\",mse)\n",
    "file_writer = tf.summary.FileWriter(logdir,tf.get_default_graph())"
   ]
  },
  {
   "cell_type": "code",
   "execution_count": 107,
   "metadata": {},
   "outputs": [
    {
     "name": "stdout",
     "output_type": "stream",
     "text": [
      "Best theta:\n",
      "[[ 2.0703337 ]\n",
      " [ 0.8637145 ]\n",
      " [ 0.12255149]\n",
      " [-0.31211883]\n",
      " [ 0.38510382]\n",
      " [ 0.00434168]\n",
      " [-0.01232954]\n",
      " [-0.83376896]\n",
      " [-0.8030471 ]]\n"
     ]
    }
   ],
   "source": [
    "n_epochs = 10\n",
    "batch_size = 100\n",
    "n_batches = int(np.ceil(m/batch_size))\n",
    "\n",
    "with tf.Session() as sess:\n",
    "    sess.run(init)\n",
    "    \n",
    "    for epoch in range(n_epochs):\n",
    "        for batch_index in range(n_batches):\n",
    "            X_batch,y_batch = fetch_batch(epoch,batch_index,batch_size)\n",
    "            if batch_index % 10 == 0:\n",
    "                summary_str = mse_summary.eval(feed_dict={X:X_batch,y:y_batch})\n",
    "                step = epoch*n_batches + batch_index\n",
    "                file_writer.add_summary(summary_str,step)\n",
    "            sess.run(training_op,feed_dict={X:X_batch,y:y_batch})\n",
    "    \n",
    "    best_theta = theta.eval()\n",
    "\n",
    "file_writer.flush()\n",
    "file_writer.close()\n",
    "print(\"Best theta:\")\n",
    "print(best_theta)"
   ]
  },
  {
   "cell_type": "code",
   "execution_count": 45,
   "metadata": {},
   "outputs": [
    {
     "data": {
      "text/plain": [
       "'loss/sub'"
      ]
     },
     "execution_count": 45,
     "metadata": {},
     "output_type": "execute_result"
    }
   ],
   "source": [
    "error.op.name"
   ]
  },
  {
   "cell_type": "code",
   "execution_count": 46,
   "metadata": {},
   "outputs": [
    {
     "data": {
      "text/plain": [
       "'loss/mse'"
      ]
     },
     "execution_count": 46,
     "metadata": {},
     "output_type": "execute_result"
    }
   ],
   "source": [
    "mse.op.name"
   ]
  },
  {
   "cell_type": "markdown",
   "metadata": {},
   "source": [
    "### Modularity\n",
    "* a really ugly flat code"
   ]
  },
  {
   "cell_type": "code",
   "execution_count": 108,
   "metadata": {},
   "outputs": [],
   "source": [
    "reset_graph()\n",
    "\n",
    "n_features = 3\n",
    "X = tf.placeholder(tf.float32,shape=(None,n_features),name=\"X\")\n",
    "\n",
    "w1 = tf.Variable(tf.random_normal((n_features,1)),name=\"weights1\")\n",
    "w2 = tf.Variable(tf.random_normal((n_features,2)),name=\"weights2\")\n",
    "b1 = tf.Variable(0.0,name='bias1')\n",
    "b2 = tf.Variable(0.0,name='bias2')\n",
    "\n",
    "z1 = tf.add(tf.matmul(X,w1),b1,name='z1')\n",
    "z2 = tf.add(tf.matmul(X,w2),b2,name='z2')\n",
    "\n",
    "relu1 = tf.maximum(z1,0.,name='relu1')\n",
    "relu2 = tf.maximum(z1,0.,name='relu2')\n",
    "\n",
    "output = tf.add(relu1,relu2,name='output')\n"
   ]
  },
  {
   "cell_type": "markdown",
   "metadata": {},
   "source": [
    "### Write a function to build relus after input nodes"
   ]
  },
  {
   "cell_type": "code",
   "execution_count": 109,
   "metadata": {},
   "outputs": [],
   "source": [
    "reset_graph()\n",
    "\n",
    "def relu(X):\n",
    "    #get shape if inputs\n",
    "    w_shape = (int(X.get_shape()[1]),1)\n",
    "    #assign weights randmoaly\n",
    "    w = tf.Variable(tf.random_normal(w_shape),name='weights')\n",
    "    #bias starting at zerp\n",
    "    b = tf.Variable(0.0,name='bias')\n",
    "    #wx+b on the node\n",
    "    z = tf.add(tf.matmul(X,w),b,name='z')\n",
    "    return(tf.maximum(z,0.,name='relu'))\n",
    "\n",
    "n_features = 3\n",
    "X = tf.placeholder(tf.float32,shape=(None,n_features),name=\"X\")\n",
    "relus =[relu(X) for i in range(5)]\n",
    "output = tf.add_n(relus,name = 'ouput')"
   ]
  },
  {
   "cell_type": "code",
   "execution_count": 110,
   "metadata": {},
   "outputs": [],
   "source": [
    "#write to file\n",
    "file_writer = tf.summary.FileWriter(\"logs/relu1\", tf.get_default_graph())"
   ]
  },
  {
   "cell_type": "markdown",
   "metadata": {},
   "source": [
    "Even better using name scopes!!!"
   ]
  },
  {
   "cell_type": "code",
   "execution_count": 111,
   "metadata": {},
   "outputs": [],
   "source": [
    "reset_graph()\n",
    "def relu(X):\n",
    "    #init session\n",
    "    with tf.name_scope('relu'):\n",
    "        w_shape = (int(X.get_shape()[1]),1)\n",
    "        w = tf.Variable(tf.random_normal(w_shape),name='weights')\n",
    "        b = tf.Variable(0.0,name='bias')\n",
    "        z = tf.add(tf.matmul(X,w),b,name='z')\n",
    "        return(tf.maximum(z,0.,name='max'))"
   ]
  },
  {
   "cell_type": "code",
   "execution_count": 112,
   "metadata": {},
   "outputs": [],
   "source": [
    "n_features = 3\n",
    "X = tf.placeholder(tf.float32, shape=(None, n_features), name=\"X\")\n",
    "relus = [relu(X) for i in range(5)]\n",
    "output = tf.add_n(relus, name=\"output\")\n",
    "\n",
    "file_writer = tf.summary.FileWriter(\"logs/relu2\", tf.get_default_graph())\n",
    "file_writer.close()"
   ]
  },
  {
   "cell_type": "markdown",
   "metadata": {},
   "source": [
    "# Sharing Variables\n",
    "sharing a threshold the classic way, by defining it ouside the relu() funciotnthen passing it as a parameter"
   ]
  },
  {
   "cell_type": "code",
   "execution_count": 115,
   "metadata": {},
   "outputs": [],
   "source": [
    "reset_graph()\n",
    "\n",
    "def relu(X,threshold):\n",
    "    with tf.name_scope(\"relu\"):\n",
    "        w_shape = (int(X.get_shape()[1]),1)\n",
    "        w = tf.Variable(tf.random_normal(w_shape),name='weights')\n",
    "        b = tf.Variable(0.0,name='bias')\n",
    "        z = tf.add(tf.matmul(X,w),b,name='z')\n",
    "        return(tf.maximum(z,threshold,name='max'))\n",
    "    \n",
    "threshold = tf.Variable(0.0,name='threshold')\n",
    "X = tf.placeholder(tf.float32,shape=(None,n_features),name=\"X\")\n",
    "relus = [relu(X,threshold) for i in range(5)]\n",
    "output = tf.add_n(relus,name='output')"
   ]
  },
  {
   "cell_type": "code",
   "execution_count": 116,
   "metadata": {},
   "outputs": [],
   "source": [
    "reset_graph()\n",
    "\n",
    "def relu(X):\n",
    "    with tf.name_scope(\"relu\"):\n",
    "        if not hasattr(relu,\"threshold\"):\n",
    "            relu.threshold = tf.Variable(0.0,name='threshold')\n",
    "        w_shape = int(X.get_shape()[1]),1\n",
    "        w = tf.Variable(tf.random_normal(w_shape),name='weights')\n",
    "        b = tf.Variable(0.0,name='bias')\n",
    "        z = tf.add(tf.matmul(X,w),b,name='z')\n",
    "        return(tf.maximum(z,relu.threshold,name='max'))\n",
    "\n",
    "X = tf.placeholder(tf.float32,shape=(None,n_features),name=\"X\")\n",
    "relus = [relu(X) for i in range(5)]\n",
    "output = tf.add_n(relus,name='output')"
   ]
  },
  {
   "cell_type": "markdown",
   "metadata": {},
   "source": [
    "### Declaring threshold variable first"
   ]
  },
  {
   "cell_type": "code",
   "execution_count": 117,
   "metadata": {},
   "outputs": [],
   "source": [
    "reset_graph()\n",
    "\n",
    "with tf.variable_scope('relu'):\n",
    "    threshold = tf.get_variable(\"threshold\",shape=(),initializer=tf.constant_initializer(0.0))"
   ]
  },
  {
   "cell_type": "code",
   "execution_count": 118,
   "metadata": {},
   "outputs": [],
   "source": [
    "with tf.variable_scope(\"relu\",reuse=True):\n",
    "    threshold = tf.get_variable('threshold')"
   ]
  },
  {
   "cell_type": "code",
   "execution_count": 119,
   "metadata": {},
   "outputs": [],
   "source": [
    "with tf.variable_scope(\"relu\") as scope:\n",
    "    scope.reuse_variables()\n",
    "    threshold = tf.get_variable(\"threshold\")"
   ]
  },
  {
   "cell_type": "code",
   "execution_count": 120,
   "metadata": {},
   "outputs": [],
   "source": [
    "reset_graph()\n",
    "\n",
    "def relu(X):\n",
    "    with tf.variable_scope(\"relu\"):\n",
    "        threshold = tf.get_variable(\"threshold\",shape=(),initializer=tf.constant_initializer(0.0))\n",
    "        w_shape = (int(X.get_shape()[1]),1)\n",
    "        w = tf.Variable(tf.random_normal(w_shape),name='weights')\n",
    "        b = tf.Variable(0.0,name='bias')\n",
    "        z = tf. add(tf.matmul(X,w),b,name=\"z\")\n",
    "        return(tf.maximum(z,threshold,name='max'))\n",
    "    \n",
    "\n",
    "X = tf.placeholder(tf.float32,shape=(None,n_features),name=\"X\")\n",
    "with tf.variable_scope('',default_name=\"\") as scope:\n",
    "    first_relu = relu(X) #create the shared vairable\n",
    "    scope.reuse_variables()\n",
    "    relus = [first_relu] + [relu(X) for i in range(4)]\n",
    "    \n",
    "output = tf.add_n(relus,name='output')\n",
    "\n",
    "file_writer = tf.summary.FileWriter(\"logs/relu8\",tf.get_default_graph())\n",
    "file_writer.close()"
   ]
  },
  {
   "cell_type": "code",
   "execution_count": 121,
   "metadata": {},
   "outputs": [],
   "source": [
    "reset_graph()\n",
    "\n",
    "def relu(X):\n",
    "    threshold = tf.get_variable(\"threshold\", shape=(),\n",
    "                                initializer=tf.constant_initializer(0.0))\n",
    "    w_shape = (int(X.get_shape()[1]), 1)                        # not shown in the book\n",
    "    w = tf.Variable(tf.random_normal(w_shape), name=\"weights\")  # not shown\n",
    "    b = tf.Variable(0.0, name=\"bias\")                           # not shown\n",
    "    z = tf.add(tf.matmul(X, w), b, name=\"z\")                    # not shown\n",
    "    return tf.maximum(z, threshold, name=\"max\")\n",
    "\n",
    "X = tf.placeholder(tf.float32,shape=(None,n_features),name=\"X\")\n",
    "relus = []\n",
    "for relu_index in range(6):\n",
    "    with tf.variable_scope(\"relu\",reuse=(relu_index >= 1)) as scope:\n",
    "        relus.append(relu(X))\n",
    "\n",
    "output = tf.add_n(relus,name='output')"
   ]
  },
  {
   "cell_type": "code",
   "execution_count": 122,
   "metadata": {},
   "outputs": [],
   "source": [
    "file_writer = tf.summary.FileWriter(\"logs/relu9\", tf.get_default_graph())\n",
    "file_writer.close()"
   ]
  },
  {
   "cell_type": "markdown",
   "metadata": {},
   "source": [
    "# Extra Material"
   ]
  },
  {
   "cell_type": "code",
   "execution_count": 125,
   "metadata": {},
   "outputs": [
    {
     "name": "stdout",
     "output_type": "stream",
     "text": [
      "x0: my_scope/x\n",
      "x1: my_scope/x_1\n",
      "x2: my_scope/x_2\n",
      "x3: my_scope/x\n",
      "x4: my_scope_1/x\n",
      "x5: my_scope/x\n",
      "True\n",
      "True\n",
      "True\n"
     ]
    }
   ],
   "source": [
    "reset_graph()\n",
    "\n",
    "with tf.variable_scope('my_scope'):\n",
    "    x0 = tf.get_variable(\"x\",shape=(),initializer=tf.constant_initializer(0.))\n",
    "    x1 = tf.Variable(0.,name='x')\n",
    "    x2 = tf.Variable(0.,name='x')\n",
    "    \n",
    "with tf.variable_scope(\"my_scope\",reuse=True):\n",
    "    x3 = tf.get_variable(\"x\")\n",
    "    x4 = tf.Variable(0.,name='x')\n",
    "    \n",
    "with tf.variable_scope(\"\",default_name=\"\",reuse=True):\n",
    "    x5 = tf.get_variable(\"my_scope/x\")\n",
    "    \n",
    "print('x0:', x0.op.name)\n",
    "print('x1:', x1.op.name)\n",
    "print('x2:', x2.op.name)\n",
    "print('x3:', x3.op.name)\n",
    "print('x4:', x4.op.name)\n",
    "print('x5:', x5.op.name)\n",
    "print(x0 is x3)\n",
    "print(x3 is x5)\n",
    "print(x0 is x3 and x3 is x5)"
   ]
  },
  {
   "cell_type": "markdown",
   "metadata": {},
   "source": [
    "The first variable_scope() block first creates the shared variable x0, named my_scope/x. For all operations other than shared variables (including non-shared variables), the variable scope acts like a regular name scope, which is why the two variables x1 and x2 have a name with a prefix my_scope/. Note however that TensorFlow makes their names unique by adding an index: my_scope/x_1 and my_scope/x_2.\n",
    "\n",
    "The second variable_scope() block reuses the shared variables in scope my_scope, which is why x0 is x3. Once again, for all operations other than shared variables it acts as a named scope, and since it's a separate block from the first one, the name of the scope is made unique by TensorFlow (my_scope_1) and thus the variable x4 is named my_scope_1/x.\n",
    "\n",
    "The third block shows another way to get a handle on the shared variable my_scope/x by creating a variable_scope() at the root scope (whose name is an empty string), then calling get_variable() with the full name of the shared variable (i.e. \"my_scope/x\").\n",
    "\n"
   ]
  },
  {
   "cell_type": "markdown",
   "metadata": {},
   "source": [
    "# Strings"
   ]
  },
  {
   "cell_type": "code",
   "execution_count": 127,
   "metadata": {},
   "outputs": [
    {
     "name": "stdout",
     "output_type": "stream",
     "text": [
      "[b'Do' b'you' b'want' b'some' b'cafe?']\n",
      "b'akgkjggjag'\n"
     ]
    }
   ],
   "source": [
    "reset_graph()\n",
    "\n",
    "text = np.array(\"Do you want some cafe?\".split())\n",
    "text1 = np.array(\"akgkjggjag\")\n",
    "text_tensor = tf.constant(text)\n",
    "text_tensor_1 = tf.constant(text1)\n",
    "\n",
    "with tf.Session() as sess:\n",
    "    print(text_tensor.eval())\n",
    "    print(text_tensor_1.eval())"
   ]
  },
  {
   "cell_type": "markdown",
   "metadata": {},
   "source": [
    "# Aside, autodiff\n",
    "\n",
    "## Introduction\n",
    "Suppose we want to compute the gradients of the funciton $f(x,y) = x^2 y + y + 2 $"
   ]
  },
  {
   "cell_type": "code",
   "execution_count": 128,
   "metadata": {},
   "outputs": [],
   "source": [
    "def f(x,y):\n",
    "    return x*x*y + y + 2"
   ]
  },
  {
   "cell_type": "markdown",
   "metadata": {},
   "source": [
    "Compute partials analytically"
   ]
  },
  {
   "cell_type": "markdown",
   "metadata": {},
   "source": [
    "$\n",
    "\\frac{\\partial f}{\\partial x} = 2xy \\\\\n",
    "\\frac{\\partial f}{\\partial y} = x^2 + 1\n",
    "$"
   ]
  },
  {
   "cell_type": "code",
   "execution_count": 130,
   "metadata": {},
   "outputs": [],
   "source": [
    "def df(x,y):\n",
    "    return 2*x*y, x*x + 1"
   ]
  },
  {
   "cell_type": "markdown",
   "metadata": {},
   "source": [
    "So for example:\n",
    "$\n",
    "\\frac{\\partial f}{\\partial x} (3,4) = 24\\\\\n",
    "\\frac{\\partial f}{\\partial y} (3,4) = 10\n",
    "$"
   ]
  },
  {
   "cell_type": "code",
   "execution_count": 131,
   "metadata": {},
   "outputs": [
    {
     "data": {
      "text/plain": [
       "(24, 10)"
      ]
     },
     "execution_count": 131,
     "metadata": {},
     "output_type": "execute_result"
    }
   ],
   "source": [
    "df(3,4)"
   ]
  },
  {
   "cell_type": "markdown",
   "metadata": {},
   "source": [
    "We can also compute the second partial and mixed dereivates:\n",
    "\n",
    "\\begin{align}\n",
    "\\frac{\\partial^2 f}{\\partial x \\partial x} = \\frac{\\partial (2xy)}{\\partial x} = 2y \\\\\n",
    "\\frac{\\partial^2 f}{\\partial x \\partial y} = \\frac{\\partial (2xy)}{\\partial y} = 2x \\\\\n",
    "\\frac{\\partial^2 f}{\\partial y \\partial x} = \\frac{\\partial (x^2 + 1)}{\\partial x} = 2x \\\\\n",
    "\\frac{\\partial^2 f}{\\partial y \\partial y} = \\frac{\\partial (x^2 + 1)}{\\partial y} = 0\n",
    "\\\\\\end{align}\n",
    "\n",
    "at (3,4) the hessian is 8,6,6,0"
   ]
  },
  {
   "cell_type": "code",
   "execution_count": 132,
   "metadata": {},
   "outputs": [],
   "source": [
    "def d2f(x, y):\n",
    "    return [2*y, 2*x], [2*x, 0]"
   ]
  },
  {
   "cell_type": "code",
   "execution_count": 133,
   "metadata": {},
   "outputs": [
    {
     "data": {
      "text/plain": [
       "([8, 6], [6, 0])"
      ]
     },
     "execution_count": 133,
     "metadata": {},
     "output_type": "execute_result"
    }
   ],
   "source": [
    "d2f(3,4)"
   ]
  },
  {
   "cell_type": "markdown",
   "metadata": {},
   "source": [
    "Great! But this requires some mathematical work and too many computations for a deep neural entwork. "
   ]
  },
  {
   "cell_type": "markdown",
   "metadata": {},
   "source": [
    "# Numerical differentiation\n",
    "\n",
    "\\begin{align}\n",
    "\\frac{\\partial f}{\\partial x} = \\lim_{\\epsilon \\to 0} \\frac{f(x+\\epsilon,y) - f(x,y)}{\\epsilon}\n",
    "\\end{align}"
   ]
  },
  {
   "cell_type": "code",
   "execution_count": 134,
   "metadata": {},
   "outputs": [],
   "source": [
    "def gradients(func,vars_list,eps=0.000001):\n",
    "    #store partial derivaties\n",
    "    partial_derivatives = []\n",
    "    #apply base func to arguemtns\n",
    "    base_func_eval = func(*vars_list)\n",
    "    for idx in range(len(vars_list)):\n",
    "        #pull values\n",
    "        tweaked_vars = vars_list[:]\n",
    "        #advance a bit\n",
    "        tweaked_vars[idx] +=eps\n",
    "        #apply func\n",
    "        tweaked_func_eval = func(*tweaked_vars)\n",
    "        #d dx\n",
    "        derivative = (tweaked_func_eval - base_func_eval) / eps\n",
    "        #store\n",
    "        partial_derivatives.append(derivative)\n",
    "    return(partial_derivatives)"
   ]
  },
  {
   "cell_type": "code",
   "execution_count": 135,
   "metadata": {},
   "outputs": [],
   "source": [
    "def df(x, y):\n",
    "    return gradients(f, [x, y])"
   ]
  },
  {
   "cell_type": "code",
   "execution_count": 136,
   "metadata": {
    "scrolled": true
   },
   "outputs": [
    {
     "data": {
      "text/plain": [
       "[24.000004003710274, 9.99999999606871]"
      ]
     },
     "execution_count": 136,
     "metadata": {},
     "output_type": "execute_result"
    }
   ],
   "source": [
    "df(3,4)"
   ]
  },
  {
   "cell_type": "markdown",
   "metadata": {},
   "source": [
    "Works! Now lets try computing the Hessians!"
   ]
  },
  {
   "cell_type": "code",
   "execution_count": 137,
   "metadata": {},
   "outputs": [
    {
     "data": {
      "text/plain": [
       "(24.000004003710274, 9.99999999606871)"
      ]
     },
     "execution_count": 137,
     "metadata": {},
     "output_type": "execute_result"
    }
   ],
   "source": [
    "def dfdx(x,y):\n",
    "    return(gradients(f,[x,y])[0])\n",
    "\n",
    "def dfdy(x,y):\n",
    "    return(gradients(f,[x,y])[1])\n",
    "\n",
    "dfdx(3.,4.),dfdy(3.,4.)"
   ]
  },
  {
   "cell_type": "markdown",
   "metadata": {},
   "source": [
    "now we can apply the gradients function for all orders"
   ]
  },
  {
   "cell_type": "code",
   "execution_count": 138,
   "metadata": {},
   "outputs": [],
   "source": [
    "def d2f(x,y):\n",
    "    return([gradients(dfdx,[3.,4.]),gradients(dfdy,[3.,4.])])"
   ]
  },
  {
   "cell_type": "code",
   "execution_count": 139,
   "metadata": {},
   "outputs": [
    {
     "data": {
      "text/plain": [
       "[[8.000711204658728, 6.004086117172847],\n",
       " [6.004086117172847, 0.014210854715202004]]"
      ]
     },
     "execution_count": 139,
     "metadata": {},
     "output_type": "execute_result"
    }
   ],
   "source": [
    "d2f(3,4)"
   ]
  },
  {
   "cell_type": "markdown",
   "metadata": {},
   "source": [
    "So everything wokrd well, but the result is only approximate and computing the gradients of a function with regards to $n$ variables requires calling that function n times. In deep neural nets, there are often thousands of parameters to tweak using gradient descent (which requires copmuting the gradients of the loss funciton with regard to each of these parameters). So this approach would be much too slow"
   ]
  },
  {
   "cell_type": "markdown",
   "metadata": {},
   "source": [
    "## Implementing a to computation graph\n",
    "Rathern than this numerical approach, lets implement some symbolic autodiff techniques."
   ]
  },
  {
   "cell_type": "code",
   "execution_count": 140,
   "metadata": {},
   "outputs": [],
   "source": [
    "#create class for constant variables\n",
    "\n",
    "class Const(object):\n",
    "    def __init__(self,value):\n",
    "        self.value = value\n",
    "    def evaluate(self):\n",
    "        return(self.value)\n",
    "    def __str__(self):\n",
    "        return(str(self.value))\n",
    "    \n",
    "class Var(object):\n",
    "    def __init__(self,name,init_value=0):\n",
    "        self.value = init_value\n",
    "        self.name = name\n",
    "    def evaluate(self):\n",
    "        return(self.value)\n",
    "    def __str__(self):\n",
    "        return(self.name)\n",
    "    \n",
    "class BinaryOperator(object):\n",
    "    def __init__(self,a,b):\n",
    "        self.a = a\n",
    "        self.b = b\n",
    "    \n",
    "class Add(BinaryOperator):\n",
    "    def evaluate(self):\n",
    "        return(self.a.evaluate() + self.b.evaluate())\n",
    "    def __str__(self):\n",
    "        return(\"{} + {}\".format(self.a,self.b))\n",
    "    \n",
    "class Mul(BinaryOperator):\n",
    "    def evaluate(self):\n",
    "        return(self.a.evaluate()*self.b.evaluate())\n",
    "    def __str__(self):\n",
    "        return(\"({})+({})\".format(self.a(),self.b()))"
   ]
  },
  {
   "cell_type": "markdown",
   "metadata": {},
   "source": [
    "Now we can build a copmutation grpah to represent the function $f$:"
   ]
  },
  {
   "cell_type": "code",
   "execution_count": 141,
   "metadata": {},
   "outputs": [],
   "source": [
    "x  = Var(\"x\")\n",
    "y = Var(\"y\")\n",
    "f = Add(Mul(Mul(x,x),y),Add(y,Const(2)))"
   ]
  },
  {
   "cell_type": "code",
   "execution_count": 142,
   "metadata": {},
   "outputs": [
    {
     "data": {
      "text/plain": [
       "42"
      ]
     },
     "execution_count": 142,
     "metadata": {},
     "output_type": "execute_result"
    }
   ],
   "source": [
    "x.value = 3\n",
    "y.value = 4\n",
    "f.evaluate()"
   ]
  },
  {
   "cell_type": "markdown",
   "metadata": {},
   "source": [
    "WOOOHOO! Starting to get a hang of classes now and it found the perfect answer!"
   ]
  },
  {
   "cell_type": "markdown",
   "metadata": {},
   "source": [
    "# Computing the gradients\n",
    "The autodiff method we present below are all base on the chain rule.\n",
    "\n",
    "Suppose we have two functions $u$ and $v$ and we apply them sequentially to some nput $x$ and we the result $z$. So we have $z=v(u(x))$ which we can rewrite as $z=v(s)$ and $s=u(x)$. Now we apply the chain rule to get the partial derivative of the output $z$ with regards to the input $x$:\n",
    "\n",
    "\\begin{align}\n",
    "\\frac{\\partial z}{\\partial x} = \\frac{\\partial s}{\\partial x} \\cdot \\frac{\\partial x}{\\partial s}\n",
    "\\end{align}\n",
    "\n",
    "Now if $z$ is the ouput of a sequence of functions which have intermediate outputs $s_1,s_2..., s_n$ the chain rule still applies\n",
    "\n",
    "\\begin{align}\n",
    "\\frac{\\partial z}{\\partial x} = \\frac{\\partial s_1}{\\partial x} \\cdot \\frac{\\partial s_2}{\\partial s_1} \\cdot \\frac{\\partial s_3}{\\partial s_2} ...\\frac{\\partial s_{n-1}}{\\partial s_{n-1}} \\cdot \\frac{\\partial s_n}{\\partial s_{n-1}} \\cdot \\frac{\\partial z}{\\partial s_n} \n",
    "\\end{align}\n",
    "\n",
    "In forward mode autodii, the algorith computes these terms \"forward: (i.e inthe smae order as the computations regquired to compute the output $z$), that is from the left to the right so;\n",
    "\n",
    "\\begin{align}\n",
    "First: \\\\\n",
    "\\frac{\\partial s_1}{\\partial x} \\\\\n",
    "Second: \\\\\n",
    "\\frac{\\partial s_2}{\\partial s_1} \\\\\n",
    "\\end{align}\n",
    "\n",
    "And so on.\n",
    "\n",
    "In reverse mode autodiff, the algorithm computes these terms backwards from right to left. First $\\frac{\\partial z}{\\partial s_n}$, then $\\frac{\\partial s_n}{\\partial s_{n-1}}$ and so on. \n",
    "\n",
    "For exmplae, suppose you wanted to compute the deriavate of the function $z(x) = sin(x^2)$ at $x=3$ using forward mode autodiff. The algorithm would first compute the partial derivative:\n",
    "\\begin{align}\n",
    "\\frac{\\partial s_1}{\\partial x} = \\frac{\\partial x^2}{\\partial x} = 2x = 6\n",
    "\\end{align}\n",
    "\n",
    "Next it owuld compute:\n",
    "\\begin{align}\n",
    "\\frac{\\partial z}{\\partial x} = \\frac{\\partial s}{\\partial x} \\cdot \\frac{\\partial z}{\\partial s_1} = 6 \\cdot \\frac{\\partial sin(s_1)}{\\partial s_1} = 6 \\cdot cos(s_1) = 6 \\cdot(3^2) \\approx -5.46 \\\\\n",
    "\\end{align}\n",
    "\n",
    "Lets verify thsi results using the gradients function defined earlier:"
   ]
  },
  {
   "cell_type": "code",
   "execution_count": 244,
   "metadata": {},
   "outputs": [
    {
     "data": {
      "text/plain": [
       "[-5.466789901376057]"
      ]
     },
     "execution_count": 244,
     "metadata": {},
     "output_type": "execute_result"
    }
   ],
   "source": [
    "from math import sin\n",
    "\n",
    "def z(x):\n",
    "    return(sin(x**2))\n",
    "\n",
    "gradients(z,[3])"
   ]
  },
  {
   "cell_type": "markdown",
   "metadata": {},
   "source": [
    "Looks good! Now lets the same thing using reverse mode autodiff. This time the algorithm would start from the right hand side so it would first compute\n",
    "\\begin{align}\n",
    "\\frac{\\partial z}{\\partial s_1} = \\frac{\\partial sin(s_1)}{\\partial s_1} = cos(s_1) = cos(3^2) \\approx -0.91 \\\\\n",
    "\\end{align}\n",
    "\n",
    "Next it would copmute:\n",
    "\\begin{align}\n",
    "\\frac{\\partial z}{\\partial x} = \\frac{\\partial s_1}{\\partial x} \\cdot \\frac{\\partial z}{\\partial s_1} \\approx \\frac{\\partial s_1}{\\partial x} \\cdot -0.91 = \\frac{\\partial x^2}{\\partial x} \\cdot -0.91 = 2x \\cdot -0.91 = 6 \\cdot -0.1 = -5.46\n",
    "\\end{align}\n",
    "\n",
    "In review, both approaches give the same result (except for rounding errors) and with a single input and out put they involve the same number of computations. But when there are several inputs or outputs, they can have very different performance. Indeed, if there are many inputs, the right most terms  will be need to computed  the partial derivatives with regards to each input, so it is a good idea to compute these right most terms first. THIS MEANS USING REVERSE MODE AUTODIFF!!! This way the right most terms can be computed just once and used to copmute all the partial derivatives. Conversely, if there are many outputs, forward mode is generally preferable because the left most terms can be computes just once to compute the partial derivatives. Converse;y, if there are many outputs, forward mode is generally preferable because the left most terms can be computed just once to compute the partial derivatives of the different outputs. In Deep Learning, there are typically thousands of model parameters, meaning there are lots of onputs, but few outputs. In fact, there is generally just one output during the training: THE LOSS! This is why reverse mode auto diff is used in TensorFlow and all major Deep Learning Libraries\n",
    "\n",
    "There's one additional complexity in reverse mode autodiff, the value of $s_i$ is generally required when computing $$\\frac{\\partial}{\\partial s_i} (s_i + 1)$$ and computing $s_i$ requires  first computing $s_{i-1}$, which requires computing $s_{i-2}$ and so on. So bascailly, a first pass forward through the network is required to compute $s_1,s_2,s_3...s_{n-1}$ and then the algorithm can compute the partial deriviatives from right to left. Storing all the intermediate values $s_i$ in RAM is sometimes a problem, especially when handling images and when using GPUS which often have limited RAM. To limit this problem, one can reuce the number of layers in the neural network or configure Tensorflow to make it swap these values from GPU RAM to CPU RAM. Another approach is to only cahcer every other intermediate value, so $s_1, s_3, s_5...s_{n-4},s_{n-2}$. This means that when the algorithm computes the partial deriavtives, if an intermediate value $s_i$ is missing, it will ned to recompute based on the previous intermediate value $s_{i-1}$. This trades off CPU for RAM\n",
    "\n"
   ]
  },
  {
   "cell_type": "markdown",
   "metadata": {},
   "source": [
    "# Forward mode autodiff"
   ]
  },
  {
   "cell_type": "code",
   "execution_count": 143,
   "metadata": {},
   "outputs": [],
   "source": [
    "Const.gradient = lambda self, var: Const(0)\n",
    "Var.gradient = lambda self, var: Const(1) if self is var else Const(0)\n",
    "Add.gradient = lambda self, var: Add(self.a.gradient(var), self.b.gradient(var))\n",
    "Mul.gradient = lambda self, var: Add(Mul(self.a, self.b.gradient(var)), Mul(self.a.gradient(var), self.b))\n",
    "\n",
    "x = Var(name=\"x\", init_value=3.)\n",
    "y = Var(name=\"y\", init_value=4.)\n",
    "f = Add(Mul(Mul(x, x), y), Add(y, Const(2))) # f(x,y) = x²y + y + 2\n",
    "\n",
    "dfdx = f.gradient(x)  # 2xy\n",
    "dfdy = f.gradient(y)  # x² + 1"
   ]
  },
  {
   "cell_type": "code",
   "execution_count": 250,
   "metadata": {},
   "outputs": [
    {
     "data": {
      "text/plain": [
       "(24.0, 10.0)"
      ]
     },
     "execution_count": 250,
     "metadata": {},
     "output_type": "execute_result"
    }
   ],
   "source": [
    "dfdx.evaluate(), dfdy.evaluate()"
   ]
  },
  {
   "cell_type": "markdown",
   "metadata": {},
   "source": [
    "Since the ouput of the gradient() method is fully symbolic, we are not limited to the first order deriviatives, we can also compute second order derivatives and so on"
   ]
  },
  {
   "cell_type": "code",
   "execution_count": 144,
   "metadata": {},
   "outputs": [],
   "source": [
    "d2fdxdx = dfdx.gradient(x) #2y\n",
    "d2fdxdy = dfdx.gradient(y) #2x\n",
    "d2fdydx = dfdy.gradient(x) #2x\n",
    "d2fdydy = dfdy.gradient(y)"
   ]
  },
  {
   "cell_type": "code",
   "execution_count": 145,
   "metadata": {},
   "outputs": [
    {
     "data": {
      "text/plain": [
       "[[8.0, 6.0], [6.0, 0.0]]"
      ]
     },
     "execution_count": 145,
     "metadata": {},
     "output_type": "execute_result"
    }
   ],
   "source": [
    "[[d2fdxdx.evaluate(), d2fdxdy.evaluate()],\n",
    " [d2fdydx.evaluate(), d2fdydy.evaluate()]]"
   ]
  },
  {
   "cell_type": "markdown",
   "metadata": {},
   "source": [
    "Now the result is exact, up to machine precision"
   ]
  },
  {
   "cell_type": "markdown",
   "metadata": {},
   "source": [
    "### Forward mode using autodiff using dual numbers\n",
    "A nice way to apply forward mode autodiff is to use dual numbers. In short, a dual number $z$ has the form $z = a + b \\epsilon$, where $a$ and $b$ are real numbers, and $\\epsilon$ is an infinitsemal number, positive but smaller than all real numbers such that $\\epsilon^2 = 0$. It can be shown that $f(x+\\epsilon) = f(x) + \\frac{\\partial f}{\\partial x} \\epsilon$, so simply computing $f(x+ \\epsilon)$ we get both the value of $f(x)$ wand the partial driative of $f$ w.r.t $x$.\n",
    "\n",
    "Dual number have their own arithmeti rules:\n",
    "\n",
    "Addition: \n",
    "$(a_1 + b_1 \\epsilon) + (a_2 + b_2 \\epsilon) = (a_1 + a_2) + (b_1 + b_2)\\epsilon$\n",
    "\n",
    "Subtraction:\n",
    "$(a_1 + b_1 \\epsilon) - (a_2 + b_2 \\epsilon) = (a_1 - a_2) + (b_1 - b_2)\\epsilon$\n",
    "\n",
    "Multiplacation:\n",
    "$(a_1 + b_1 \\epsilon) \\times (a_2 + b_2 \\epsilon) = (a_1 a_2) + (a_1 b_2 + a_2 b_1)\\epsilon + (b_1 b_2) \\epsilon^2 = (a_1 a_2) + (a_1 b_2 + a_2 b_1)\\epsilon$\n",
    "\n",
    "Division:\n",
    "$\\frac{a_1 + b_1 \\epsilon}{a_2 + b_2 \\epsilon} = \\frac{a_1}{a_2} + \\frac{a_1 b_2 - b_1 a_2}{{a_2}^2} \\epsilon$\n",
    "\n",
    "Power:\n",
    "$(a+ b \\epsilon)^{n} = a^n + (na^{n-1}b)\\epsilon$"
   ]
  },
  {
   "cell_type": "code",
   "execution_count": 146,
   "metadata": {},
   "outputs": [],
   "source": [
    "class DualNumber(object):\n",
    "    def __init__(self, value=0.0, eps=0.0):\n",
    "        self.value = value\n",
    "        self.eps = eps\n",
    "    def __add__(self, b):\n",
    "        return DualNumber(self.value + self.to_dual(b).value,\n",
    "                          self.eps + self.to_dual(b).eps)\n",
    "    def __radd__(self, a):\n",
    "        return self.to_dual(a).__add__(self)\n",
    "    def __mul__(self, b):\n",
    "        return DualNumber(self.value * self.to_dual(b).value,\n",
    "                          self.eps * self.to_dual(b).value + self.value * self.to_dual(b).eps)\n",
    "    def __rmul__(self, a):\n",
    "        return self.to_dual(a).__mul__(self)\n",
    "    def __str__(self):\n",
    "        if self.eps:\n",
    "            return \"{:.1f} + {:.1f}ε\".format(self.value, self.eps)\n",
    "        else:\n",
    "            return \"{:.1f}\".format(self.value)\n",
    "    def __repr__(self):\n",
    "        return str(self)\n",
    "    @classmethod\n",
    "    def to_dual(cls, n):\n",
    "        if hasattr(n, \"value\"):\n",
    "            return n\n",
    "        else:\n",
    "            return cls(n)\n",
    "    "
   ]
  },
  {
   "cell_type": "markdown",
   "metadata": {},
   "source": [
    "$3 + (3+ 4 \\epsilon) = 6 + 4 \\epsilon$"
   ]
  },
  {
   "cell_type": "code",
   "execution_count": 147,
   "metadata": {},
   "outputs": [
    {
     "data": {
      "text/plain": [
       "6.0 + 4.0ε"
      ]
     },
     "execution_count": 147,
     "metadata": {},
     "output_type": "execute_result"
    }
   ],
   "source": [
    "3 + DualNumber(3, 4)\n"
   ]
  },
  {
   "cell_type": "markdown",
   "metadata": {},
   "source": [
    "$\n",
    "(3 + 4 \\epsilon) \\times (5 + 7 \\epsilon)\\\\\n",
    "3\\times5 + 3\\times7 \\epsilon + 4\\epsilon \\times 5 + 4\\epsilon \\times 7 \\epsilon \\\\\n",
    "15 + 21 \\epsilon  + 20 \\epsilon  + 28 \\epsilon \\epsilon \\\\\n",
    "15 + 41 \\epsilon\n",
    "$"
   ]
  },
  {
   "cell_type": "code",
   "execution_count": 148,
   "metadata": {},
   "outputs": [
    {
     "data": {
      "text/plain": [
       "15.0 + 41.0ε"
      ]
     },
     "execution_count": 148,
     "metadata": {},
     "output_type": "execute_result"
    }
   ],
   "source": [
    "DualNumber(3, 4) * DualNumber(5, 7)\n"
   ]
  },
  {
   "cell_type": "code",
   "execution_count": 149,
   "metadata": {},
   "outputs": [
    {
     "data": {
      "text/plain": [
       "42.0"
      ]
     },
     "execution_count": 149,
     "metadata": {},
     "output_type": "execute_result"
    }
   ],
   "source": [
    "x.value = DualNumber(3.0)\n",
    "y.value = DualNumber(4.0)\n",
    "\n",
    "f.evaluate()"
   ]
  },
  {
   "cell_type": "markdown",
   "metadata": {},
   "source": [
    "Everything works! Now lets see if the dual numbers work with out toy computation framework:"
   ]
  },
  {
   "cell_type": "code",
   "execution_count": 135,
   "metadata": {},
   "outputs": [],
   "source": [
    "x.value = DualNumber(3.0,1.0)\n",
    "y.value = DualNumber(4.0)\n",
    "\n",
    "dfdx = f.evaluate().eps\n",
    "\n",
    "x.value = DualNumber(3.0)\n",
    "y.value = DualNumber(4.0,1.0)\n",
    "\n",
    "dfdy = f.evaluate().eps"
   ]
  },
  {
   "cell_type": "code",
   "execution_count": 136,
   "metadata": {},
   "outputs": [
    {
     "data": {
      "text/plain": [
       "(24.0, 10.0)"
      ]
     },
     "execution_count": 136,
     "metadata": {},
     "output_type": "execute_result"
    }
   ],
   "source": [
    "dfdx, dfdy"
   ]
  },
  {
   "cell_type": "markdown",
   "metadata": {},
   "source": [
    "### Reverse mode autodiff\n",
    "\n",
    "Lets rewrite our toy framework to add reverse mode autodiff"
   ]
  },
  {
   "cell_type": "code",
   "execution_count": 150,
   "metadata": {},
   "outputs": [],
   "source": [
    "class Const(object):\n",
    "    def __init__(self,value):\n",
    "        self.value = value\n",
    "    def evaluate(self):\n",
    "        return(self.value)\n",
    "    def backpropagate(self,gradient):\n",
    "        pass\n",
    "    def __str__(self):\n",
    "        return(str(self.value))\n",
    "    \n",
    "class Var(object):\n",
    "    def __init__(self,name,init_value = 0):\n",
    "        self.value = init_value\n",
    "        self.name = name\n",
    "        self.gradient = 0\n",
    "    def evaluate(self):\n",
    "        return(self.value)\n",
    "    def backpropagate(self,gradient):\n",
    "        self.gradient += gradient\n",
    "    def __str__(self):\n",
    "        return(self.name)\n",
    "    \n",
    "class BinaryOperator(object):\n",
    "    def __init__(self,a,b):\n",
    "        self.a = a\n",
    "        self.b = b\n",
    "        \n",
    "class Add(BinaryOperator):\n",
    "    def evaluate(self):\n",
    "        self.value = self.a.evaluate() + self.b.evaluate()\n",
    "        return(self.value)\n",
    "    def backpropagate(self,gradient):\n",
    "        self.a.backpropagate(gradient)\n",
    "        self.b.backpropagate(gradient)\n",
    "    def __str__(self):\n",
    "        return(\"{} + {}\".format(self.a,self.b))\n",
    "    \n",
    "class Mul(BinaryOperator):\n",
    "    def evaluate(self):\n",
    "        self.value = self.a.evaluate()*self.b.evaluate()\n",
    "        return(self.value)\n",
    "    def backpropagate(self,gradient):\n",
    "        self.a.backpropagate(gradient*self.b.value)\n",
    "        self.b.backpropagate(gradient*self.a.value)\n",
    "    def __str__(self):\n",
    "        return(\"{} * {}\".format(self.a,self.b))"
   ]
  },
  {
   "cell_type": "code",
   "execution_count": 151,
   "metadata": {},
   "outputs": [],
   "source": [
    "x = Var(\"x\",init_value=3)\n",
    "y = Var(\"y\", init_value=4)\n",
    "f = Add(Mul(Mul(x,x),y),Add(y,Const(2)))"
   ]
  },
  {
   "cell_type": "code",
   "execution_count": 152,
   "metadata": {},
   "outputs": [],
   "source": [
    "result = f.evaluate()"
   ]
  },
  {
   "cell_type": "code",
   "execution_count": 153,
   "metadata": {},
   "outputs": [],
   "source": [
    "f.backpropagate(1.0)"
   ]
  },
  {
   "cell_type": "code",
   "execution_count": 154,
   "metadata": {},
   "outputs": [
    {
     "name": "stdout",
     "output_type": "stream",
     "text": [
      "x * x * y + y + 2\n"
     ]
    }
   ],
   "source": [
    "print(f)"
   ]
  },
  {
   "cell_type": "code",
   "execution_count": 155,
   "metadata": {},
   "outputs": [
    {
     "data": {
      "text/plain": [
       "42"
      ]
     },
     "execution_count": 155,
     "metadata": {},
     "output_type": "execute_result"
    }
   ],
   "source": [
    "result"
   ]
  },
  {
   "cell_type": "code",
   "execution_count": 156,
   "metadata": {},
   "outputs": [
    {
     "data": {
      "text/plain": [
       "24.0"
      ]
     },
     "execution_count": 156,
     "metadata": {},
     "output_type": "execute_result"
    }
   ],
   "source": [
    "x.gradient"
   ]
  },
  {
   "cell_type": "code",
   "execution_count": 157,
   "metadata": {},
   "outputs": [
    {
     "data": {
      "text/plain": [
       "10.0"
      ]
     },
     "execution_count": 157,
     "metadata": {},
     "output_type": "execute_result"
    }
   ],
   "source": [
    "y.gradient"
   ]
  },
  {
   "cell_type": "markdown",
   "metadata": {},
   "source": [
    "In this implementation the outputs are just numbers not symbolic expressions, so we are limited to first order deriviatvies. Howevver, we could have mode the backpragate() methods return smbolix expression rathern than values (e.g. return Add(2,3) rater than5). This would make it possible to compute second order gradients and beyone. This is what tf does!"
   ]
  },
  {
   "cell_type": "markdown",
   "metadata": {},
   "source": [
    "### Reverse mode autodiff using Tensforflow"
   ]
  },
  {
   "cell_type": "code",
   "execution_count": 158,
   "metadata": {},
   "outputs": [],
   "source": [
    "import tensorflow as tf"
   ]
  },
  {
   "cell_type": "code",
   "execution_count": 159,
   "metadata": {},
   "outputs": [
    {
     "data": {
      "text/plain": [
       "(42.0, [24.0, 10.0])"
      ]
     },
     "execution_count": 159,
     "metadata": {},
     "output_type": "execute_result"
    }
   ],
   "source": [
    "tf.reset_default_graph()\n",
    "\n",
    "x = tf.Variable(3.,name=\"x\")\n",
    "y = tf.Variable(4.,name=\"y\")\n",
    "f = x*x*y + y + 2\n",
    "\n",
    "jacobians = tf.gradients(f,[x,y])\n",
    "\n",
    "init = tf.global_variables_initializer()\n",
    "\n",
    "with tf.Session() as sess:\n",
    "    init.run()\n",
    "    f_val,jacobians_val = sess.run([f,jacobians])\n",
    "    \n",
    "f_val,jacobians_val"
   ]
  },
  {
   "cell_type": "markdown",
   "metadata": {},
   "source": [
    "Since everything is symbollic we can compute the second order derivatives and beyong. However, when we compute the derivative of a tensor with regards to a variable that it does not depend on, instead of returning a 0.0, the gradients() function returns None! which cannot be evaluted by sess.run(). So beward of None values!\n"
   ]
  },
  {
   "cell_type": "code",
   "execution_count": 160,
   "metadata": {},
   "outputs": [
    {
     "data": {
      "text/plain": [
       "([8.0, 6.0], [6.0, 0.0])"
      ]
     },
     "execution_count": 160,
     "metadata": {},
     "output_type": "execute_result"
    }
   ],
   "source": [
    "hessians_x = tf.gradients(jacobians[0],[x,y])\n",
    "hessians_y = tf.gradients(jacobians[1],[x,y])\n",
    "\n",
    "def replace_none_with_zero(tensors):\n",
    "    return([tensor if tensor is not None else tf.constant(0.) for tensor in tensors])\n",
    "\n",
    "hessians_x = replace_none_with_zero(hessians_x)\n",
    "hessians_y = replace_none_with_zero(hessians_y)\n",
    "\n",
    "init = tf.global_variables_initializer()\n",
    "\n",
    "with tf.Session() as sess:\n",
    "    init.run()\n",
    "    hessians_x_val, hessians_y_val = sess.run([hessians_x,hessians_y])\n",
    "    \n",
    "hessians_x_val,hessians_y_val\n"
   ]
  },
  {
   "cell_type": "markdown",
   "metadata": {},
   "source": [
    "TADA!"
   ]
  },
  {
   "cell_type": "markdown",
   "metadata": {},
   "source": [
    "### Exercise 10"
   ]
  },
  {
   "cell_type": "code",
   "execution_count": 162,
   "metadata": {},
   "outputs": [
    {
     "name": "stdout",
     "output_type": "stream",
     "text": [
      "0.63789964\n",
      "5.0\n"
     ]
    }
   ],
   "source": [
    "import tensorflow as tf\n",
    "\n",
    "reset_graph()\n",
    "x = tf.Variable(tf.random_uniform(shape=(),minval=0.0,maxval=1.0))\n",
    "x_new_val = tf.placeholder(shape=(),dtype=tf.float32)\n",
    "x_assign = tf.assign(x,x_new_val)\n",
    "\n",
    "with tf.Session():\n",
    "    x.initializer.run()\n",
    "    print(x.eval())\n",
    "    #reassign\n",
    "    x_assign.eval(feed_dict={x_new_val:5.0})\n",
    "    print(x.eval())"
   ]
  },
  {
   "cell_type": "markdown",
   "metadata": {},
   "source": [
    "### 12 log regression with mini batch gradient descent using tensorflow "
   ]
  },
  {
   "cell_type": "code",
   "execution_count": 165,
   "metadata": {},
   "outputs": [],
   "source": [
    "from sklearn.datasets import make_moons\n",
    "\n",
    "m = 1000\n",
    "X_moons,y_moons = make_moons(m,noise =0.1, random_state=30)"
   ]
  },
  {
   "cell_type": "code",
   "execution_count": 166,
   "metadata": {},
   "outputs": [
    {
     "data": {
      "image/png": "[encoded data removed]",
      "text/plain": [
       "<Figure size 432x288 with 1 Axes>"
      ]
     },
     "metadata": {
      "needs_background": "light"
     },
     "output_type": "display_data"
    }
   ],
   "source": [
    "plt.plot(X_moons[y_moons == 1, 0], X_moons[y_moons == 1, 1], 'go', label=\"Positive\")\n",
    "plt.plot(X_moons[y_moons == 0, 0], X_moons[y_moons == 0, 1], 'r^', label=\"Negative\")\n",
    "plt.legend()\n",
    "plt.show()"
   ]
  },
  {
   "cell_type": "markdown",
   "metadata": {},
   "source": [
    "Absorb bias $x_0 = 1$ into the  inputs"
   ]
  },
  {
   "cell_type": "code",
   "execution_count": 167,
   "metadata": {},
   "outputs": [],
   "source": [
    "X_moons_with_bias = np.c_[np.ones((m,1)),X_moons]"
   ]
  },
  {
   "cell_type": "code",
   "execution_count": 168,
   "metadata": {},
   "outputs": [
    {
     "data": {
      "text/plain": [
       "array([[ 1.        ,  1.97416561, -0.10979094],\n",
       "       [ 1.        ,  2.05086911,  0.09086988],\n",
       "       [ 1.        , -0.1261885 ,  0.26773291],\n",
       "       ...,\n",
       "       [ 1.        ,  2.06779572,  0.18091295],\n",
       "       [ 1.        , -0.7862558 ,  0.64236981],\n",
       "       [ 1.        ,  1.16812572, -0.43787438]])"
      ]
     },
     "execution_count": 168,
     "metadata": {},
     "output_type": "execute_result"
    }
   ],
   "source": [
    "X_moons_with_bias"
   ]
  },
  {
   "cell_type": "markdown",
   "metadata": {},
   "source": [
    "Reshape y train to get into a 2d array"
   ]
  },
  {
   "cell_type": "code",
   "execution_count": 169,
   "metadata": {},
   "outputs": [],
   "source": [
    "y_moons_column_vector = y_moons.reshape(-1,1)"
   ]
  },
  {
   "cell_type": "code",
   "execution_count": 171,
   "metadata": {},
   "outputs": [],
   "source": [
    "#split\n",
    "test_ratio = 0.2\n",
    "test_size = int(m * test_ratio)\n",
    "X_train = X_moons_with_bias[:-test_size]\n",
    "X_test = X_moons_with_bias[-test_size:]\n",
    "y_train = y_moons_column_vector[:-test_size]\n",
    "y_test = y_moons_column_vector[-test_size:]"
   ]
  },
  {
   "cell_type": "markdown",
   "metadata": {},
   "source": [
    "Ok, now lets creat a small function to generate training batches. In this implementation we randomly pick trainig smaples. Meaning that a single batch may contain the same instance multiple times, and therefore a single epoch may not cover all the training instances. However, this is generally not a problem"
   ]
  },
  {
   "cell_type": "code",
   "execution_count": 174,
   "metadata": {},
   "outputs": [],
   "source": [
    "def random_batch(X_train,y_train,batch_size):\n",
    "    rnd_indices = np.random.randint(0,len(X_train),batch_size)\n",
    "    X_batch = X_train[rnd_indices]\n",
    "    y_batch = y_train[rnd_indices]\n",
    "    return(X_batch,y_batch)"
   ]
  },
  {
   "cell_type": "code",
   "execution_count": 175,
   "metadata": {},
   "outputs": [
    {
     "data": {
      "text/plain": [
       "array([[ 1.        , -0.18235972,  0.86980148],\n",
       "       [ 1.        ,  1.94277122,  0.41861651],\n",
       "       [ 1.        ,  1.65106036, -0.27800204],\n",
       "       [ 1.        ,  0.90758167, -0.00555286],\n",
       "       [ 1.        , -0.73239699,  0.95218093]])"
      ]
     },
     "execution_count": 175,
     "metadata": {},
     "output_type": "execute_result"
    }
   ],
   "source": [
    "X_batch, y_batch = random_batch(X_train, y_train, 5)\n",
    "X_batch"
   ]
  },
  {
   "cell_type": "code",
   "execution_count": 176,
   "metadata": {},
   "outputs": [
    {
     "data": {
      "text/plain": [
       "array([[0],\n",
       "       [1],\n",
       "       [1],\n",
       "       [0],\n",
       "       [0]])"
      ]
     },
     "execution_count": 176,
     "metadata": {},
     "output_type": "execute_result"
    }
   ],
   "source": [
    "y_batch"
   ]
  },
  {
   "cell_type": "markdown",
   "metadata": {},
   "source": [
    "Letw slowly build up the model"
   ]
  },
  {
   "cell_type": "code",
   "execution_count": 177,
   "metadata": {},
   "outputs": [],
   "source": [
    "reset_graph()\n",
    "n_inputs = 2"
   ]
  },
  {
   "cell_type": "markdown",
   "metadata": {},
   "source": [
    "We use a logistic regression model: \n",
    "\n",
    "Recall:\n",
    "$\\hat{p} = h_\\theta (x) = \\sigma (\\theta^T x)$\n",
    "\n",
    "The $\\theta$ parameter vector, containing the bias term $\\theta_0$ and the weights thetas through theta n contains the bias term $x_0 = 1$ as well as the input features.\n",
    "\n",
    "Since we want to be able to make predicitons for multiple instnaces at a tme, we will an input matrix $\\bf{X}$ rather than a sinlge input vector for each instance. It then becomes:\n",
    "\n",
    "$\\hat{p} = \\sigma (\\bf{(X\\theta)}$\n",
    "\n",
    "Now we can build the model!"
   ]
  },
  {
   "cell_type": "code",
   "execution_count": 178,
   "metadata": {},
   "outputs": [],
   "source": [
    "X = tf.placeholder(tf.float32,shape = (None, n_inputs + 1),name=\"X\")\n",
    "y = tf.placeholder(tf.float32,shape=(None,1),name='y')\n",
    "theta = tf.Variable(tf.random_uniform([n_inputs + 1,1],-1.0,1.0,seed=42),name='theta')\n",
    "logits = tf.matmul(X,theta,name='logits')\n",
    "y_proba = 1 / (1+ tf.exp(-logits))"
   ]
  },
  {
   "cell_type": "code",
   "execution_count": 179,
   "metadata": {},
   "outputs": [],
   "source": [
    "y_proba = tf.sigmoid(logits)\n"
   ]
  },
  {
   "cell_type": "markdown",
   "metadata": {},
   "source": [
    "$J(\\boldsymbol{\\theta}) = -\\dfrac{1}{m} \\sum\\limits_{i=1}^{m}{\\left[ y^{(i)} \\log\\left(\\hat{p}^{(i)}\\right) + (1 - y^{(i)}) \\log\\left(1 - \\hat{p}^{(i)}\\right)\\right]}$\n",
    "\n",
    "Implement ouselves\n"
   ]
  },
  {
   "cell_type": "code",
   "execution_count": 180,
   "metadata": {},
   "outputs": [],
   "source": [
    "epsilon = 1e-7\n",
    "loss = -tf.reduce_mean(y*tf.log(y_proba+epsilon)  + (1-y)*tf.log(1-y_proba + epsilon))"
   ]
  },
  {
   "cell_type": "markdown",
   "metadata": {},
   "source": [
    "But could also just use the log loss function"
   ]
  },
  {
   "cell_type": "code",
   "execution_count": 181,
   "metadata": {},
   "outputs": [
    {
     "name": "stdout",
     "output_type": "stream",
     "text": [
      "WARNING:tensorflow:From /anaconda3/lib/python3.7/site-packages/tensorflow_core/python/ops/losses/losses_impl.py:121: where (from tensorflow.python.ops.array_ops) is deprecated and will be removed in a future version.\n",
      "Instructions for updating:\n",
      "Use tf.where in 2.0, which has the same broadcast rule as np.where\n"
     ]
    }
   ],
   "source": [
    "loss = tf.losses.log_loss(y,y_proba) #uses 1e-7 by default"
   ]
  },
  {
   "cell_type": "code",
   "execution_count": 182,
   "metadata": {},
   "outputs": [],
   "source": [
    "#set up the rest of the computation grpah\n",
    "learning_rate = 0.01\n",
    "optimizer = tf.train.GradientDescentOptimizer(learning_rate=learning_rate)\n",
    "training_op = optimizer.minimize(loss)"
   ]
  },
  {
   "cell_type": "code",
   "execution_count": 183,
   "metadata": {},
   "outputs": [],
   "source": [
    "#init the variables\n",
    "init = tf.global_variables_initializer()"
   ]
  },
  {
   "cell_type": "markdown",
   "metadata": {},
   "source": [
    "Write the rest of the computation graph"
   ]
  },
  {
   "cell_type": "code",
   "execution_count": 184,
   "metadata": {},
   "outputs": [
    {
     "name": "stdout",
     "output_type": "stream",
     "text": [
      "Epoch: 0 \tLoss: 0.8182378\n",
      "Epoch: 100 \tLoss: 0.3180591\n",
      "Epoch: 200 \tLoss: 0.28040478\n",
      "Epoch: 300 \tLoss: 0.26421708\n",
      "Epoch: 400 \tLoss: 0.25596732\n",
      "Epoch: 500 \tLoss: 0.2511695\n",
      "Epoch: 600 \tLoss: 0.24788913\n",
      "Epoch: 700 \tLoss: 0.24576478\n",
      "Epoch: 800 \tLoss: 0.2445567\n",
      "Epoch: 900 \tLoss: 0.24291086\n",
      "Epoch: 1000 \tLoss: 0.24248724\n",
      "Epoch: 1100 \tLoss: 0.24198936\n",
      "Epoch: 1200 \tLoss: 0.24109025\n",
      "Epoch: 1300 \tLoss: 0.24087906\n",
      "Epoch: 1400 \tLoss: 0.24060279\n"
     ]
    }
   ],
   "source": [
    "n_epochs = 1500\n",
    "batch_size = 50\n",
    "n_batches = int(np.ceil(m / batch_size))\n",
    "\n",
    "with tf.Session() as sess:\n",
    "    sess.run(init)\n",
    "\n",
    "    for epoch in range(n_epochs):\n",
    "        for batch_index in range(n_batches):\n",
    "            X_batch, y_batch = random_batch(X_train, y_train, batch_size)\n",
    "            sess.run(training_op, feed_dict={X: X_batch, y: y_batch})\n",
    "        loss_val = loss.eval({X: X_test, y: y_test})\n",
    "        if epoch % 100 == 0:\n",
    "            print(\"Epoch:\", epoch, \"\\tLoss:\", loss_val)\n",
    "\n",
    "    y_proba_val = y_proba.eval(feed_dict={X: X_test, y: y_test})\n",
    "            "
   ]
  },
  {
   "cell_type": "markdown",
   "metadata": {},
   "source": [
    "Note: we dont use the epoch number when generating batches, so we could just have a sinlge for loop rather than a double loop. Buts it importnant to think of training in terms of the number of epochs (roughly the number of times the algorithm wen through the training set).\n",
    "\n",
    "For each instance in the test set y_proba_val contains the estimated probabilit that it belongs to the positive class accoriding to the model. For example, here are the first 5 estimated probabilities"
   ]
  },
  {
   "cell_type": "code",
   "execution_count": 185,
   "metadata": {},
   "outputs": [
    {
     "data": {
      "text/plain": [
       "array([[0.00275856],\n",
       "       [0.9860338 ],\n",
       "       [0.98700815],\n",
       "       [0.7936355 ],\n",
       "       [0.94911295],\n",
       "       [0.02285618]], dtype=float32)"
      ]
     },
     "execution_count": 185,
     "metadata": {},
     "output_type": "execute_result"
    }
   ],
   "source": [
    "y_proba_val[:6]"
   ]
  },
  {
   "cell_type": "markdown",
   "metadata": {},
   "source": [
    "To classify each instance, we can for for MLE and assign when greater than 0.5"
   ]
  },
  {
   "cell_type": "code",
   "execution_count": 186,
   "metadata": {},
   "outputs": [
    {
     "data": {
      "text/plain": [
       "array([[False],\n",
       "       [ True],\n",
       "       [ True],\n",
       "       [ True],\n",
       "       [ True]])"
      ]
     },
     "execution_count": 186,
     "metadata": {},
     "output_type": "execute_result"
    }
   ],
   "source": [
    "y_pred = (y_proba_val >=0.5)\n",
    "y_pred[:5]"
   ]
  },
  {
   "cell_type": "markdown",
   "metadata": {},
   "source": [
    "Recall you can adjust the threshold to try to improve accuracy, at the cost of lower recall and precision"
   ]
  },
  {
   "cell_type": "code",
   "execution_count": 187,
   "metadata": {},
   "outputs": [
    {
     "data": {
      "text/plain": [
       "0.8979591836734694"
      ]
     },
     "execution_count": 187,
     "metadata": {},
     "output_type": "execute_result"
    }
   ],
   "source": [
    "from sklearn.metrics import precision_score, recall_score\n",
    "\n",
    "precision_score(y_test, y_pred)"
   ]
  },
  {
   "cell_type": "code",
   "execution_count": 188,
   "metadata": {},
   "outputs": [
    {
     "data": {
      "text/plain": [
       "0.88"
      ]
     },
     "execution_count": 188,
     "metadata": {},
     "output_type": "execute_result"
    }
   ],
   "source": [
    "recall_score(y_test, y_pred)"
   ]
  },
  {
   "cell_type": "code",
   "execution_count": 189,
   "metadata": {},
   "outputs": [
    {
     "data": {
      "image/png": "[encoded data removed]",
      "text/plain": [
       "<Figure size 432x288 with 1 Axes>"
      ]
     },
     "metadata": {
      "needs_background": "light"
     },
     "output_type": "display_data"
    }
   ],
   "source": [
    "y_pred_idx = y_pred.reshape(-1) # a 1D array rather than a column vector\n",
    "plt.plot(X_test[y_pred_idx, 1], X_test[y_pred_idx, 2], 'go', label=\"Positive\")\n",
    "plt.plot(X_test[~y_pred_idx, 1], X_test[~y_pred_idx, 2], 'r^', label=\"Negative\")\n",
    "plt.legend()\n",
    "plt.show()"
   ]
  },
  {
   "cell_type": "markdown",
   "metadata": {},
   "source": [
    "That's not too good, but reacall logistic regression has a linear decision boundary:\n",
    "\n",
    "Now this time, lets start over but this time adding all the bells and whistles:\n",
    "\n",
    "* Define the graph with a log_reg function\n",
    "* save checkpoints using a Saver at regular intervals during training, and save tge final model at the end of training\n",
    "* Restore the last checkpoint upon startup if training was interrupted\n",
    "* Define the graph using nice scopes so the graph looks good in TensorBoard\n",
    "* Add summaries to visiualize learning curves in TensotrBoard\n",
    "* Try teweaking some hpyer parameters\n",
    "\n",
    "Before we start we will4 more features to the inputs $x_1^{2}, x_2^{2}, x_3^{2}, x_4^{2}$ to show how adding features can imporve the model. \n",
    "\n",
    "Note you could use sklearn's polynomialfeatures, but we peforem this expansion manually"
   ]
  },
  {
   "cell_type": "code",
   "execution_count": 193,
   "metadata": {},
   "outputs": [],
   "source": [
    "X_train_enhanced = np.c_[X_train,np.square(X_train[:,1]),\n",
    "                        np.square(X_train[:,2]),\n",
    "                        X_train[:,1]**3,\n",
    "                        X_train[:,2]**3]\n",
    "\n",
    "X_test_enhanced = np.c_[X_test,np.square(X_test[:,1]),\n",
    "                       np.square(X_test[:,2]),\n",
    "                       X_test[:,1]**3,\n",
    "                        X_test[:,2]**3]"
   ]
  },
  {
   "cell_type": "code",
   "execution_count": 194,
   "metadata": {},
   "outputs": [
    {
     "name": "stdout",
     "output_type": "stream",
     "text": [
      "(800, 7)\n",
      "(200, 7)\n"
     ]
    }
   ],
   "source": [
    "#check the shapes\n",
    "print(X_train_enhanced.shape)\n",
    "print(X_test_enhanced.shape)"
   ]
  },
  {
   "cell_type": "code",
   "execution_count": 195,
   "metadata": {},
   "outputs": [
    {
     "data": {
      "text/plain": [
       "array([[ 1.00000000e+00,  1.97416561e+00, -1.09790942e-01,\n",
       "         3.89732987e+00,  1.20540509e-02,  7.69397462e+00,\n",
       "        -1.32342559e-03],\n",
       "       [ 1.00000000e+00,  2.05086911e+00,  9.08698847e-02,\n",
       "         4.20606412e+00,  8.25733594e-03,  8.62608698e+00,\n",
       "         7.50343165e-04],\n",
       "       [ 1.00000000e+00, -1.26188496e-01,  2.67732905e-01,\n",
       "         1.59235366e-02,  7.16809086e-02, -2.00936713e-03,\n",
       "         1.91913379e-02],\n",
       "       [ 1.00000000e+00,  7.64453701e-01,  6.54477348e-01,\n",
       "         5.84389461e-01,  4.28340599e-01,  4.46738687e-01,\n",
       "         2.80339220e-01],\n",
       "       [ 1.00000000e+00,  1.85118635e+00, -1.89645570e-01,\n",
       "         3.42689091e+00,  3.59654422e-02,  6.34381369e+00,\n",
       "        -6.82068678e-03]])"
      ]
     },
     "execution_count": 195,
     "metadata": {},
     "output_type": "execute_result"
    }
   ],
   "source": [
    "X_train_enhanced[:5]"
   ]
  },
  {
   "cell_type": "markdown",
   "metadata": {},
   "source": [
    "Now let's define the logistic regression function. We will leave out the deifintion of the inputs x and the targets y. We could include them but, leavin them out will it make it easier to relplicate this functoin in a wide range of use cases. Perhaps we wil want to add some preprocesing steps for the inputs before feeind them"
   ]
  },
  {
   "cell_type": "code",
   "execution_count": 196,
   "metadata": {},
   "outputs": [],
   "source": [
    "def logistic_regression(X,y,initializer = None, seed=42,learning_rate=0.01):\n",
    "    n_inputs_including_bias = int(X.get_shape()[1])\n",
    "    with tf.name_scope(\"logistic_regression\"):\n",
    "        with tf.name_scope(\"model\"):\n",
    "            if initializer is None:\n",
    "                initializer = tf.random_uniform([n_inputs_including_bias,1],-1.0,1.0,seed=seed)\n",
    "            #set thetas\n",
    "            theta = tf.Variable(initializer,name='theta')\n",
    "            logits = tf.matmul(X,theta,name='logits')\n",
    "            y_proba = tf.sigmoid(logits)\n",
    "        with tf.name_scope(\"train\"):\n",
    "            loss = tf.losses.log_loss(y,y_proba,scope='loss')\n",
    "            optimizer = tf.train.GradientDescentOptimizer(learning_rate=learning_rate)\n",
    "            training_op = optimizer.minimize(loss)\n",
    "            loss_summary = tf.summary.scalar(\"log_loss\",loss)\n",
    "        with tf.name_scope(\"init\"):\n",
    "            init = tf.global_variables_initializer()\n",
    "        with tf.name_scope(\"save\"):\n",
    "            saver = tf.train.Saver()\n",
    "    return(y_proba,loss,training_op,loss_summary,init,saver)\n",
    "\n",
    "\n",
    "\n",
    "\n",
    "\n",
    "\n"
   ]
  },
  {
   "cell_type": "markdown",
   "metadata": {},
   "source": [
    "One more function to get the name of the log directory to save the summaries for Tensorboard"
   ]
  },
  {
   "cell_type": "code",
   "execution_count": 197,
   "metadata": {},
   "outputs": [],
   "source": [
    "from datetime import datetime\n",
    "\n",
    "def log_dir(prefix=\"\"):\n",
    "    now = datetime.utcnow().strftime(\"%Y%m%d%H%M%S\")\n",
    "    root_logdir = 'tf_logs'\n",
    "    if prefix:\n",
    "        prefix += \"-\"\n",
    "    name = prefix + \"run-\" + now\n",
    "    return(\"{}/{}\".format(root_logdir,name))"
   ]
  },
  {
   "cell_type": "markdown",
   "metadata": {},
   "source": [
    "Run the graph and save the files using filewriter"
   ]
  },
  {
   "cell_type": "code",
   "execution_count": 385,
   "metadata": {},
   "outputs": [],
   "source": [
    "n_inputs = 2+4\n",
    "logdir = log_dir(\"logreg\")\n",
    "\n",
    "X = tf.placeholder(tf.float32,shape=(None,n_inputs +1),name=\"X\")\n",
    "y = tf.placeholder(tf.float32,shape=(None,1),name=\"y\")\n",
    "\n",
    "y_proba,loss,training_op,loss_summary,init,saver = logistic_regression(X,y)\n",
    "\n",
    "file_writer = tf.summary.FileWriter(logdir,tf.get_default_graph())"
   ]
  },
  {
   "cell_type": "markdown",
   "metadata": {},
   "source": [
    "We can actually begin training our model. We will start by checking whether a previous training session was interrupted, and if so we will load the checkpoint and continue training from the epoch number we saved. In this example, we just save teh epoch number to a seperate file, but in chapter 11, we will see how to store the training step directly as part of the model. Using a non-trainable variable called global_step\n",
    "\n",
    "You can try interrupting training to verify that it doest ineed restore the last checkpoint when you start it again..."
   ]
  },
  {
   "cell_type": "code",
   "execution_count": 386,
   "metadata": {},
   "outputs": [
    {
     "name": "stdout",
     "output_type": "stream",
     "text": [
      "Epoch: 0 \tLoss: 0.62877786\n",
      "Epoch: 500 \tLoss: 0.16100284\n",
      "Epoch: 1000 \tLoss: 0.11890707\n",
      "Epoch: 1500 \tLoss: 0.09718493\n",
      "Epoch: 2000 \tLoss: 0.083643876\n",
      "Epoch: 2500 \tLoss: 0.074311234\n",
      "Epoch: 3000 \tLoss: 0.06744907\n",
      "Epoch: 3500 \tLoss: 0.062173855\n",
      "Epoch: 4000 \tLoss: 0.057930898\n",
      "Epoch: 4500 \tLoss: 0.054515094\n",
      "Epoch: 5000 \tLoss: 0.051692456\n",
      "Epoch: 5500 \tLoss: 0.049304485\n",
      "Epoch: 6000 \tLoss: 0.047199287\n",
      "Epoch: 6500 \tLoss: 0.04536928\n",
      "Epoch: 7000 \tLoss: 0.043792583\n",
      "Epoch: 7500 \tLoss: 0.04236175\n",
      "Epoch: 8000 \tLoss: 0.041122686\n",
      "Epoch: 8500 \tLoss: 0.03999031\n",
      "Epoch: 9000 \tLoss: 0.038911253\n",
      "Epoch: 9500 \tLoss: 0.037978612\n",
      "Epoch: 10000 \tLoss: 0.037115537\n"
     ]
    }
   ],
   "source": [
    "n_epochs = 10001\n",
    "batch_size = 50\n",
    "n_batches = int(np.ceil(m / batch_size))\n",
    "\n",
    "checkpoint_path = \"/tmp/my_logreg_model.ckpt\"\n",
    "checkpoint_epoch_path = checkpoint_path + \".epoch\"\n",
    "final_model_path = \"./my_logreg_model\"\n",
    "\n",
    "with tf.Session() as sess:\n",
    "    if os.path.isfile(checkpoint_epoch_path):\n",
    "        # if the checkpoint file exists, restore the model and load the epoch number\n",
    "        with open(checkpoint_epoch_path, \"rb\") as f:\n",
    "            start_epoch = int(f.read())\n",
    "        print(\"Training was interrupted. Continuing at epoch\", start_epoch)\n",
    "        saver.restore(sess, checkpoint_path)\n",
    "    else:\n",
    "        start_epoch = 0\n",
    "        sess.run(init)\n",
    "\n",
    "    for epoch in range(start_epoch, n_epochs):\n",
    "        for batch_index in range(n_batches):\n",
    "            X_batch, y_batch = random_batch(X_train_enhanced, y_train, batch_size)\n",
    "            sess.run(training_op, feed_dict={X: X_batch, y: y_batch})\n",
    "        loss_val, summary_str = sess.run([loss, loss_summary], feed_dict={X: X_test_enhanced, y: y_test})\n",
    "        file_writer.add_summary(summary_str, epoch)\n",
    "        if epoch % 500 == 0:\n",
    "            print(\"Epoch:\", epoch, \"\\tLoss:\", loss_val)\n",
    "            saver.save(sess, checkpoint_path)\n",
    "            with open(checkpoint_epoch_path, \"wb\") as f:\n",
    "                f.write(b\"%d\" % (epoch + 1))\n",
    "\n",
    "    saver.save(sess, final_model_path)\n",
    "    y_proba_val = y_proba.eval(feed_dict={X: X_test_enhanced, y: y_test})\n",
    "    os.remove(checkpoint_epoch_path)"
   ]
  },
  {
   "cell_type": "code",
   "execution_count": 387,
   "metadata": {},
   "outputs": [
    {
     "data": {
      "text/plain": [
       "0.9797979797979798"
      ]
     },
     "execution_count": 387,
     "metadata": {},
     "output_type": "execute_result"
    }
   ],
   "source": [
    "y_pred = (y_proba_val >= 0.5)\n",
    "precision_score(y_test, y_pred)\n"
   ]
  },
  {
   "cell_type": "code",
   "execution_count": 388,
   "metadata": {},
   "outputs": [
    {
     "data": {
      "text/plain": [
       "0.9797979797979798"
      ]
     },
     "execution_count": 388,
     "metadata": {},
     "output_type": "execute_result"
    }
   ],
   "source": [
    "recall_score(y_test, y_pred)\n"
   ]
  },
  {
   "cell_type": "code",
   "execution_count": 389,
   "metadata": {},
   "outputs": [
    {
     "data": {
      "image/png": "[encoded data removed]",
      "text/plain": [
       "<Figure size 432x288 with 1 Axes>"
      ]
     },
     "metadata": {
      "needs_background": "light"
     },
     "output_type": "display_data"
    }
   ],
   "source": [
    "y_pred_idx = y_pred.reshape(-1) # a 1D array rather than a column vector\n",
    "plt.plot(X_test[y_pred_idx, 1], X_test[y_pred_idx, 2], 'go', label=\"Positive\")\n",
    "plt.plot(X_test[~y_pred_idx, 1], X_test[~y_pred_idx, 2], 'r^', label=\"Negative\")\n",
    "plt.legend()\n",
    "plt.show()"
   ]
  },
  {
   "cell_type": "markdown",
   "metadata": {},
   "source": [
    "check out the tensorboard afte completing this run"
   ]
  },
  {
   "cell_type": "code",
   "execution_count": 391,
   "metadata": {},
   "outputs": [
    {
     "name": "stdout",
     "output_type": "stream",
     "text": [
      "Iteration 0\n",
      " logdir: tf_logs/logreg-run-20191223190703\n",
      " batch_size: 36\n",
      " learning_rate: 0.004430375245218265\n",
      " training:.....................\n",
      "  precision: 0.9797979797979798\n",
      "  recall: 0.9797979797979798\n",
      "Iteration 1\n",
      " logdir: tf_logs/logreg-run-20191223190956\n",
      " batch_size: 75\n",
      " learning_rate: 0.0017826497151386947\n",
      " training:.....................\n",
      "  precision: 0.9696969696969697\n",
      "  recall: 0.9696969696969697\n",
      "Iteration 2\n",
      " logdir: tf_logs/logreg-run-20191223191123\n",
      " batch_size: 86\n",
      " learning_rate: 0.00203228544324115\n",
      " training:.....................\n",
      "  precision: 0.9696969696969697\n",
      "  recall: 0.9696969696969697\n",
      "Iteration 3\n",
      " logdir: tf_logs/logreg-run-20191223191235\n",
      " batch_size: 87\n",
      " learning_rate: 0.004491523825137997\n",
      " training:.....................\n",
      "  precision: 0.9797979797979798\n",
      "  recall: 0.9797979797979798\n",
      "Iteration 4\n",
      " logdir: tf_logs/logreg-run-20191223192847\n",
      " batch_size: 61\n",
      " learning_rate: 0.07963234721775589\n",
      " training:.....................\n",
      "  precision: 0.9801980198019802\n",
      "  recall: 1.0\n",
      "Iteration 5\n",
      " logdir: tf_logs/logreg-run-20191223193027\n",
      " batch_size: 92\n",
      " learning_rate: 0.0004634250583294876\n",
      " training:.....................\n",
      "  precision: 0.912621359223301\n",
      "  recall: 0.9494949494949495\n",
      "Iteration 6\n",
      " logdir: tf_logs/logreg-run-20191223193139\n",
      " batch_size: 74\n",
      " learning_rate: 0.047706818419354494\n",
      " training:.....................\n",
      "  precision: 0.98\n",
      "  recall: 0.98989898989899\n",
      "Iteration 7\n",
      " logdir: tf_logs/logreg-run-20191223193306\n",
      " batch_size: 58\n",
      " learning_rate: 0.0001694044709524274\n",
      " training:.....................\n",
      "  precision: 0.9\n",
      "  recall: 0.9090909090909091\n",
      "Iteration 8\n",
      " logdir: tf_logs/logreg-run-20191223193500\n",
      " batch_size: 61\n",
      " learning_rate: 0.04171461199412461\n",
      " training:.....................\n",
      "  precision: 0.9801980198019802\n",
      "  recall: 1.0\n",
      "Iteration 9\n",
      " logdir: tf_logs/logreg-run-20191223193647\n",
      " batch_size: 92\n",
      " learning_rate: 0.00010742922968438615\n",
      " training:.....................\n",
      "  precision: 0.8823529411764706\n",
      "  recall: 0.7575757575757576\n"
     ]
    }
   ],
   "source": [
    "from scipy.stats import reciprocal\n",
    "\n",
    "n_search_iterations = 10\n",
    "\n",
    "for search_iteration in range(n_search_iterations):\n",
    "    batch_size = np.random.randint(1,100)\n",
    "    learning_rate = reciprocal(0.0001,0.1).rvs(random_state=search_iteration)\n",
    "    \n",
    "    n_inputs = 2+4\n",
    "    logdir = log_dir(\"logreg\")\n",
    "    \n",
    "    print(\"Iteration\",search_iteration)\n",
    "    print(\" logdir:\",logdir)\n",
    "    print(\" batch_size:\",batch_size)\n",
    "    print(\" learning_rate:\",learning_rate)\n",
    "    print(\" training:\",end =\"\")\n",
    "    \n",
    "    reset_graph()\n",
    "    \n",
    "    X = tf.placeholder(tf.float32,shape=(None,n_inputs+1),name=\"X\")\n",
    "    y = tf.placeholder(tf.float32,shape=(None,1),name=\"y\")\n",
    "    \n",
    "    y_proba,loss,training_op,loss_summary,init,saver = logistic_regression(X,y,learning_rate=learning_rate)\n",
    "    \n",
    "    file_writer = tf.summary.FileWriter(logdir,tf.get_default_graph())\n",
    "    \n",
    "    n_epochs = 10001\n",
    "    n_batches = int(np.ceil(m/batch_size))\n",
    "    \n",
    "    final_model_path = \"./my_logreg_model_%d\" % search_iteration\n",
    "    \n",
    "    with tf.Session() as sess:\n",
    "        sess.run(init)\n",
    "        \n",
    "        for epoch in range(n_epochs):\n",
    "            for batch_index in range(n_batches):\n",
    "                X_batch, y_batch = random_batch(X_train_enhanced, y_train, batch_size)\n",
    "                sess.run(training_op, feed_dict={X: X_batch, y: y_batch})\n",
    "            loss_val, summary_str = sess.run([loss, loss_summary], feed_dict={X: X_test_enhanced, y: y_test})\n",
    "            file_writer.add_summary(summary_str, epoch)\n",
    "            if epoch % 500 == 0:\n",
    "                print(\".\", end=\"\")\n",
    "\n",
    "        saver.save(sess, final_model_path)\n",
    "\n",
    "        print()\n",
    "        y_proba_val = y_proba.eval(feed_dict={X: X_test_enhanced, y: y_test})\n",
    "        y_pred = (y_proba_val >= 0.5)\n",
    "        \n",
    "        print(\"  precision:\", precision_score(y_test, y_pred))\n",
    "        print(\"  recall:\", recall_score(y_test, y_pred))\n"
   ]
  },
  {
   "cell_type": "markdown",
   "metadata": {},
   "source": [
    "TADA!!"
   ]
  },
  {
   "cell_type": "code",
   "execution_count": null,
   "metadata": {},
   "outputs": [],
   "source": []
  }
 ],
 "metadata": {
  "kernelspec": {
   "display_name": "Python 3",
   "language": "python",
   "name": "python3"
  },
  "language_info": {
   "codemirror_mode": {
    "name": "ipython",
    "version": 3
   },
   "file_extension": ".py",
   "mimetype": "text/x-python",
   "name": "python",
   "nbconvert_exporter": "python",
   "pygments_lexer": "ipython3",
   "version": "3.7.1"
  }
 },
 "nbformat": 4,
 "nbformat_minor": 2
}
